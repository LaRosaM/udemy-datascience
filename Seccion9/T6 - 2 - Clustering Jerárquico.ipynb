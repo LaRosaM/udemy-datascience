{
 "cells": [
  {
   "cell_type": "markdown",
   "metadata": {},
   "source": [
    "# Clustering jerárquico y dendrogramas\n",
    "\n",
    "Antes de empezar, pongamos un poco de notación para hablar todos el mismo idioma\n",
    "- X dataset (array de n x m) de puntos a clusterizar\n",
    "- n número de datos\n",
    "- m número de rasgos\n",
    "- Z array de enlace del cluster con la información de las uniones\n",
    "- k número de clusters"
   ]
  },
  {
   "cell_type": "code",
   "execution_count": 1,
   "metadata": {},
   "outputs": [],
   "source": [
    "import matplotlib.pyplot as plt\n",
    "from scipy.cluster.hierarchy import dendrogram, linkage\n",
    "import numpy as np"
   ]
  },
  {
   "cell_type": "code",
   "execution_count": 2,
   "metadata": {},
   "outputs": [],
   "source": [
    "np.random.seed(4711)\n",
    "a = np.random.multivariate_normal([10,0], [[3,1],[1,4]], size = [100,])\n",
    "b = np.random.multivariate_normal([0,20], [[3,1],[1,4]], size = [50,])"
   ]
  },
  {
   "cell_type": "code",
   "execution_count": 3,
   "metadata": {},
   "outputs": [
    {
     "data": {
      "text/plain": [
       "array([[ 9.21188389e+00, -1.51885892e-01],\n",
       "       [ 8.88937431e+00, -3.39374638e-01],\n",
       "       [ 1.07684006e+01,  2.95244645e+00],\n",
       "       [ 8.24213268e+00,  1.29094802e+00],\n",
       "       [ 5.79670090e+00, -5.83776714e+00],\n",
       "       [ 6.34993090e+00,  6.39595151e-01],\n",
       "       [ 8.10571230e+00, -4.58872773e-01],\n",
       "       [ 8.72084884e+00, -4.40444487e+00],\n",
       "       [ 8.83500513e+00, -3.91661101e-01],\n",
       "       [ 1.04006121e+01,  2.71240817e+00],\n",
       "       [ 1.19550340e+01,  1.98602715e+00],\n",
       "       [ 8.50141850e+00,  5.03495832e-01],\n",
       "       [ 9.23359190e+00,  1.30693205e+00],\n",
       "       [ 1.22776800e+01,  1.62763958e+00],\n",
       "       [ 1.09590184e+01, -1.27520318e-01],\n",
       "       [ 8.72437412e+00, -7.31019114e-01],\n",
       "       [ 9.64949127e+00,  3.41989410e+00],\n",
       "       [ 1.14991208e+01, -5.51131721e-01],\n",
       "       [ 1.14825643e+01, -2.86234942e-01],\n",
       "       [ 8.58740424e+00,  1.66814229e+00],\n",
       "       [ 1.19557043e+01, -1.27350693e+00],\n",
       "       [ 9.85622312e+00,  1.08989137e+00],\n",
       "       [ 1.01183101e+01,  1.08458295e+00],\n",
       "       [ 7.76042253e+00,  6.37468354e-01],\n",
       "       [ 1.09979416e+01, -2.93746848e+00],\n",
       "       [ 6.90850201e+00, -1.44867941e+00],\n",
       "       [ 7.85787065e+00, -9.91481193e-01],\n",
       "       [ 6.12508463e+00, -2.44306477e+00],\n",
       "       [ 1.06114379e+01, -2.36227692e-01],\n",
       "       [ 1.10921749e+01, -1.69984051e+00],\n",
       "       [ 7.15906941e+00, -1.22674862e-01],\n",
       "       [ 1.07378401e+01, -1.63560624e+00],\n",
       "       [ 8.23931855e+00,  1.55744279e+00],\n",
       "       [ 9.83913054e+00, -4.87297971e-01],\n",
       "       [ 1.12622203e+01, -1.71579586e-01],\n",
       "       [ 1.06780159e+01, -4.69741979e-01],\n",
       "       [ 1.39081564e+01,  2.36855859e+00],\n",
       "       [ 1.12197936e+01,  3.35441926e+00],\n",
       "       [ 9.08490874e+00, -3.38581519e+00],\n",
       "       [ 7.77229101e+00, -1.23819676e+00],\n",
       "       [ 1.63633299e+01,  5.24744831e+00],\n",
       "       [ 8.81582877e+00, -5.63940247e-01],\n",
       "       [ 8.13179077e+00,  1.87917127e+00],\n",
       "       [ 1.01349908e+01, -1.18689039e+00],\n",
       "       [ 8.59430666e+00,  7.79699356e-01],\n",
       "       [ 8.98565337e+00, -2.72056598e+00],\n",
       "       [ 9.86312125e+00,  1.75254336e+00],\n",
       "       [ 1.22599442e+01,  1.22973412e+00],\n",
       "       [ 1.21914459e+01, -5.19601509e-02],\n",
       "       [ 1.23745026e+01, -2.34243206e+00],\n",
       "       [ 9.98417669e+00,  1.56825376e+00],\n",
       "       [ 8.68402478e+00, -2.09666479e+00],\n",
       "       [ 1.01880312e+01,  9.14039031e-01],\n",
       "       [ 1.02125373e+01,  8.80534153e-01],\n",
       "       [ 8.40200260e+00, -1.40096264e+00],\n",
       "       [ 1.04808840e+01, -1.19190101e+00],\n",
       "       [ 9.35848150e+00,  7.08565105e-01],\n",
       "       [ 1.18816386e+01,  4.12229154e+00],\n",
       "       [ 1.01944828e+01, -2.78017585e+00],\n",
       "       [ 1.22363141e+01,  9.31609343e-01],\n",
       "       [ 6.86417900e+00, -4.03013361e+00],\n",
       "       [ 1.03275400e+01, -2.82460015e+00],\n",
       "       [ 9.97792822e+00, -5.63832021e-01],\n",
       "       [ 9.63480372e+00, -9.05494654e-01],\n",
       "       [ 8.80166499e+00, -2.42264033e+00],\n",
       "       [ 8.53957785e+00,  2.58027473e+00],\n",
       "       [ 1.03669706e+01,  2.82030771e+00],\n",
       "       [ 7.90809729e+00, -1.84710013e+00],\n",
       "       [ 9.89349270e+00, -4.41522574e-01],\n",
       "       [ 8.69529949e+00, -6.20489458e-01],\n",
       "       [ 9.30179035e+00,  1.04782731e-01],\n",
       "       [ 9.85058478e+00,  1.35183230e+00],\n",
       "       [ 1.07107359e+01,  5.82668836e-01],\n",
       "       [ 1.15457359e+01, -6.05176896e-01],\n",
       "       [ 8.59348561e+00,  2.69294244e+00],\n",
       "       [ 1.23411594e+01, -1.76218881e+00],\n",
       "       [ 1.31493358e+01,  2.85030583e+00],\n",
       "       [ 9.41679554e+00,  2.70292861e+00],\n",
       "       [ 8.91523357e+00,  1.06233353e+00],\n",
       "       [ 1.09108564e+01, -1.61837571e-01],\n",
       "       [ 1.05548632e+01, -1.49157653e+00],\n",
       "       [ 1.26323564e+01,  2.22171630e+00],\n",
       "       [ 1.00666477e+01, -7.98247108e-01],\n",
       "       [ 1.21300542e+01,  2.05002792e+00],\n",
       "       [ 7.76127367e+00, -9.67880973e-02],\n",
       "       [ 1.24952773e+01,  7.41100405e-01],\n",
       "       [ 1.29250299e+01,  5.67411608e-01],\n",
       "       [ 9.36540826e+00, -1.40604151e+00],\n",
       "       [ 7.79571128e+00, -1.44314579e+00],\n",
       "       [ 1.08267216e+01, -2.08810631e+00],\n",
       "       [ 1.19539689e+01,  1.08769271e+00],\n",
       "       [ 6.59948462e+00,  8.69336332e-01],\n",
       "       [ 9.45547948e+00, -2.48749473e+00],\n",
       "       [ 1.10003826e+01,  2.65709648e+00],\n",
       "       [ 1.10001378e+01,  1.25280763e+00],\n",
       "       [ 1.25977837e+01,  7.03230931e-01],\n",
       "       [ 9.24786212e+00,  3.17361517e-01],\n",
       "       [ 8.73431156e+00, -1.52811674e+00],\n",
       "       [ 9.62903325e+00, -7.84431335e-01],\n",
       "       [ 1.30295901e+01,  3.12219830e+00],\n",
       "       [ 7.99342857e-01,  1.92876207e+01],\n",
       "       [-8.43364875e-01,  1.91476830e+01],\n",
       "       [ 2.68289165e+00,  2.02823170e+01],\n",
       "       [-1.92578090e+00,  1.62811628e+01],\n",
       "       [ 6.69331318e-02,  2.31307104e+01],\n",
       "       [ 1.42543381e+00,  2.05758420e+01],\n",
       "       [ 8.90643314e-01,  2.08505943e+01],\n",
       "       [ 4.69979905e-01,  1.94569153e+01],\n",
       "       [ 6.41469296e-01,  2.18940911e+01],\n",
       "       [ 8.30477213e-01,  1.73591976e+01],\n",
       "       [-1.87230604e-01,  1.88818653e+01],\n",
       "       [-2.84504245e+00,  1.83016817e+01],\n",
       "       [-7.86517974e-02,  2.15077081e+01],\n",
       "       [ 6.28283345e-01,  1.74578720e+01],\n",
       "       [ 2.02317907e+00,  2.24478654e+01],\n",
       "       [ 5.07749238e-01,  1.93412550e+01],\n",
       "       [-1.55473539e+00,  1.96958473e+01],\n",
       "       [-2.54958029e+00,  2.00123239e+01],\n",
       "       [ 2.62102331e-01,  2.21645467e+01],\n",
       "       [ 1.43291481e+00,  1.74862221e+01],\n",
       "       [ 4.70848918e-01,  2.40845721e+01],\n",
       "       [ 1.47294516e+00,  2.16366663e+01],\n",
       "       [-2.01973160e+00,  1.70863048e+01],\n",
       "       [ 3.06945515e-01,  1.85696651e+01],\n",
       "       [-1.75380995e-01,  1.95007068e+01],\n",
       "       [-1.04772516e+00,  1.47655311e+01],\n",
       "       [-3.12539587e+00,  1.88984563e+01],\n",
       "       [-2.00590423e+00,  2.25817961e+01],\n",
       "       [ 2.82514261e+00,  2.27972048e+01],\n",
       "       [ 2.93004564e+00,  1.73267202e+01],\n",
       "       [ 1.37736827e+00,  2.09661119e+01],\n",
       "       [ 6.02235486e-01,  2.19969330e+01],\n",
       "       [-3.73934977e-01,  2.07720291e+01],\n",
       "       [ 7.09654960e-03,  2.24793106e+01],\n",
       "       [-7.65431509e-01,  1.96195449e+01],\n",
       "       [ 3.73748169e-01,  2.01876466e+01],\n",
       "       [-1.55001615e+00,  2.02873344e+01],\n",
       "       [ 1.68351131e+00,  2.05508955e+01],\n",
       "       [-8.11159219e-01,  1.81029898e+01],\n",
       "       [ 1.82078071e+00,  2.24209046e+01],\n",
       "       [-9.79926513e-01,  1.61062195e+01],\n",
       "       [ 3.83841608e+00,  1.87349728e+01],\n",
       "       [ 3.58582906e-01,  2.11063324e+01],\n",
       "       [ 1.65141254e-01,  1.95574289e+01],\n",
       "       [ 8.79228278e-01,  2.16608094e+01],\n",
       "       [ 1.37189573e-01,  1.87820796e+01],\n",
       "       [ 8.81471553e-01,  1.82718660e+01],\n",
       "       [ 2.71951520e+00,  2.07521944e+01],\n",
       "       [ 2.02869057e+00,  2.02086900e+01],\n",
       "       [ 1.82184274e+00,  2.10003004e+01]])"
      ]
     },
     "execution_count": 3,
     "metadata": {},
     "output_type": "execute_result"
    }
   ],
   "source": [
    "X = np.concatenate((a,b))\n",
    "X"
   ]
  },
  {
   "cell_type": "code",
   "execution_count": 4,
   "metadata": {},
   "outputs": [
    {
     "name": "stdout",
     "output_type": "stream",
     "text": [
      "(150, 2)\n"
     ]
    },
    {
     "data": {
      "image/png": "[encoded data removed]",
      "text/plain": [
       "<Figure size 432x288 with 1 Axes>"
      ]
     },
     "metadata": {
      "needs_background": "light"
     },
     "output_type": "display_data"
    }
   ],
   "source": [
    "print(X.shape)\n",
    "plt.scatter(X[:,0], X[:,1])\n",
    "plt.show()"
   ]
  },
  {
   "cell_type": "code",
   "execution_count": 5,
   "metadata": {},
   "outputs": [
    {
     "data": {
      "text/plain": [
       "array([[5.20000000e+01, 5.30000000e+01, 4.15105485e-02, 2.00000000e+00],\n",
       "       [1.40000000e+01, 7.90000000e+01, 5.91375926e-02, 2.00000000e+00],\n",
       "       [3.30000000e+01, 6.80000000e+01, 7.10677929e-02, 2.00000000e+00],\n",
       "       [1.70000000e+01, 7.30000000e+01, 7.13712071e-02, 2.00000000e+00],\n",
       "       [1.00000000e+00, 8.00000000e+00, 7.54313099e-02, 2.00000000e+00],\n",
       "       [8.50000000e+01, 9.50000000e+01, 1.09277896e-01, 2.00000000e+00],\n",
       "       [1.08000000e+02, 1.31000000e+02, 1.10071548e-01, 2.00000000e+00],\n",
       "       [9.00000000e+00, 6.60000000e+01, 1.13022407e-01, 2.00000000e+00],\n",
       "       [1.50000000e+01, 6.90000000e+01, 1.14289714e-01, 2.00000000e+00],\n",
       "       [6.30000000e+01, 9.80000000e+01, 1.21200766e-01, 2.00000000e+00],\n",
       "       [1.07000000e+02, 1.15000000e+02, 1.21671017e-01, 2.00000000e+00],\n",
       "       [6.50000000e+01, 7.40000000e+01, 1.24900190e-01, 2.00000000e+00],\n",
       "       [5.80000000e+01, 6.10000000e+01, 1.40277358e-01, 2.00000000e+00],\n",
       "       [6.20000000e+01, 1.52000000e+02, 1.72599535e-01, 3.00000000e+00],\n",
       "       [4.10000000e+01, 1.58000000e+02, 1.77901377e-01, 3.00000000e+00],\n",
       "       [1.00000000e+01, 8.30000000e+01, 1.86354938e-01, 2.00000000e+00],\n",
       "       [1.14000000e+02, 1.39000000e+02, 2.04186147e-01, 2.00000000e+00],\n",
       "       [3.90000000e+01, 8.80000000e+01, 2.06282849e-01, 2.00000000e+00],\n",
       "       [7.00000000e+01, 9.60000000e+01, 2.19312547e-01, 2.00000000e+00],\n",
       "       [4.60000000e+01, 5.00000000e+01, 2.20492804e-01, 2.00000000e+00],\n",
       "       [1.09000000e+02, 1.13000000e+02, 2.24986663e-01, 2.00000000e+00],\n",
       "       [3.10000000e+01, 8.00000000e+01, 2.32862816e-01, 2.00000000e+00],\n",
       "       [2.20000000e+01, 1.50000000e+02, 2.36078175e-01, 3.00000000e+00],\n",
       "       [2.80000000e+01, 3.50000000e+01, 2.42819974e-01, 2.00000000e+00],\n",
       "       [1.80000000e+01, 3.40000000e+01, 2.48389451e-01, 2.00000000e+00],\n",
       "       [1.05000000e+02, 1.37000000e+02, 2.59280405e-01, 2.00000000e+00],\n",
       "       [2.10000000e+01, 7.10000000e+01, 2.62001604e-01, 2.00000000e+00],\n",
       "       [3.00000000e+00, 3.20000000e+01, 2.66509630e-01, 2.00000000e+00],\n",
       "       [1.23000000e+02, 1.45000000e+02, 2.71913544e-01, 2.00000000e+00],\n",
       "       [1.10000000e+01, 4.40000000e+01, 2.91404524e-01, 2.00000000e+00],\n",
       "       [7.60000000e+01, 9.90000000e+01, 2.97093481e-01, 2.00000000e+00],\n",
       "       [4.70000000e+01, 5.90000000e+01, 2.99059799e-01, 2.00000000e+00],\n",
       "       [5.00000000e+00, 9.10000000e+01, 3.39202110e-01, 2.00000000e+00],\n",
       "       [9.00000000e+01, 1.81000000e+02, 3.39763724e-01, 3.00000000e+00],\n",
       "       [1.24000000e+02, 1.43000000e+02, 3.45214137e-01, 2.00000000e+00],\n",
       "       [4.30000000e+01, 5.50000000e+01, 3.45929445e-01, 2.00000000e+00],\n",
       "       [5.10000000e+01, 6.40000000e+01, 3.46553413e-01, 2.00000000e+00],\n",
       "       [5.40000000e+01, 9.70000000e+01, 3.55805293e-01, 2.00000000e+00],\n",
       "       [2.00000000e+00, 9.30000000e+01, 3.75562530e-01, 2.00000000e+00],\n",
       "       [1.00000000e+02, 1.60000000e+02, 3.80913085e-01, 3.00000000e+00],\n",
       "       [1.20000000e+01, 7.80000000e+01, 4.01472868e-01, 2.00000000e+00],\n",
       "       [1.18000000e+02, 1.33000000e+02, 4.05097832e-01, 2.00000000e+00],\n",
       "       [2.60000000e+01, 1.67000000e+02, 4.12133337e-01, 3.00000000e+00],\n",
       "       [8.20000000e+01, 1.63000000e+02, 4.18980543e-01, 4.00000000e+00],\n",
       "       [0.00000000e+00, 1.68000000e+02, 4.25362998e-01, 3.00000000e+00],\n",
       "       [1.44000000e+02, 1.56000000e+02, 4.43167352e-01, 3.00000000e+00],\n",
       "       [1.30000000e+02, 1.49000000e+02, 4.45787404e-01, 2.00000000e+00],\n",
       "       [1.54000000e+02, 1.64000000e+02, 4.60097743e-01, 5.00000000e+00],\n",
       "       [2.90000000e+01, 8.90000000e+01, 4.70335807e-01, 2.00000000e+00],\n",
       "       [1.02000000e+02, 1.47000000e+02, 4.71302568e-01, 2.00000000e+00],\n",
       "       [8.60000000e+01, 1.55000000e+02, 4.72173168e-01, 3.00000000e+00],\n",
       "       [1.01000000e+02, 1.34000000e+02, 4.78254332e-01, 2.00000000e+00],\n",
       "       [1.90000000e+01, 1.77000000e+02, 4.89484285e-01, 3.00000000e+00],\n",
       "       [6.00000000e+00, 8.40000000e+01, 4.99743222e-01, 2.00000000e+00],\n",
       "       [1.51000000e+02, 1.73000000e+02, 5.05199907e-01, 4.00000000e+00],\n",
       "       [4.50000000e+01, 9.20000000e+01, 5.24460465e-01, 2.00000000e+00],\n",
       "       [1.30000000e+01, 1.65000000e+02, 5.26233975e-01, 3.00000000e+00],\n",
       "       [1.10000000e+02, 1.78000000e+02, 5.29097437e-01, 3.00000000e+00],\n",
       "       [4.20000000e+01, 2.02000000e+02, 5.33881589e-01, 4.00000000e+00],\n",
       "       [1.53000000e+02, 1.74000000e+02, 5.37558049e-01, 4.00000000e+00],\n",
       "       [4.90000000e+01, 7.50000000e+01, 5.81200479e-01, 2.00000000e+00],\n",
       "       [1.06000000e+02, 1.42000000e+02, 5.90330642e-01, 2.00000000e+00],\n",
       "       [1.16000000e+02, 1.36000000e+02, 5.91505947e-01, 2.00000000e+00],\n",
       "       [1.75000000e+02, 1.96000000e+02, 5.97160620e-01, 4.00000000e+00],\n",
       "       [1.69000000e+02, 1.76000000e+02, 6.29486922e-01, 4.00000000e+00],\n",
       "       [5.60000000e+01, 1.90000000e+02, 6.40141135e-01, 3.00000000e+00],\n",
       "       [1.71000000e+02, 1.98000000e+02, 6.43710753e-01, 4.00000000e+00],\n",
       "       [1.11000000e+02, 1.26000000e+02, 6.59346638e-01, 2.00000000e+00],\n",
       "       [1.59000000e+02, 1.93000000e+02, 6.76649875e-01, 6.00000000e+00],\n",
       "       [1.57000000e+02, 1.88000000e+02, 7.10036934e-01, 4.00000000e+00],\n",
       "       [7.20000000e+01, 9.40000000e+01, 7.29958530e-01, 2.00000000e+00],\n",
       "       [8.10000000e+01, 2.06000000e+02, 7.47996178e-01, 4.00000000e+00],\n",
       "       [1.60000000e+01, 7.70000000e+01, 7.53781676e-01, 2.00000000e+00],\n",
       "       [6.70000000e+01, 1.92000000e+02, 7.72469937e-01, 4.00000000e+00],\n",
       "       [1.12000000e+02, 1.32000000e+02, 7.92726839e-01, 2.00000000e+00],\n",
       "       [1.03000000e+02, 1.22000000e+02, 8.10604930e-01, 2.00000000e+00],\n",
       "       [1.19000000e+02, 1.70000000e+02, 8.17309531e-01, 3.00000000e+00],\n",
       "       [1.86000000e+02, 2.05000000e+02, 8.32843248e-01, 4.00000000e+00],\n",
       "       [1.48000000e+02, 1.99000000e+02, 8.54389694e-01, 3.00000000e+00],\n",
       "       [2.40000000e+01, 1.62000000e+02, 8.65111008e-01, 3.00000000e+00],\n",
       "       [1.35000000e+02, 1.84000000e+02, 8.77319341e-01, 3.00000000e+00],\n",
       "       [2.30000000e+01, 1.79000000e+02, 9.09269952e-01, 3.00000000e+00],\n",
       "       [3.00000000e+01, 2.03000000e+02, 9.11997903e-01, 3.00000000e+00],\n",
       "       [8.70000000e+01, 1.87000000e+02, 9.23061191e-01, 3.00000000e+00],\n",
       "       [1.04000000e+02, 1.91000000e+02, 9.37163564e-01, 3.00000000e+00],\n",
       "       [1.21000000e+02, 1.95000000e+02, 9.73235140e-01, 4.00000000e+00],\n",
       "       [2.00000000e+01, 2.10000000e+02, 1.01208749e+00, 3.00000000e+00],\n",
       "       [3.70000000e+01, 5.70000000e+01, 1.01373896e+00, 2.00000000e+00],\n",
       "       [1.46000000e+02, 2.26000000e+02, 1.03060025e+00, 4.00000000e+00],\n",
       "       [1.72000000e+02, 2.14000000e+02, 1.03456497e+00, 7.00000000e+00],\n",
       "       [4.80000000e+01, 2.09000000e+02, 1.04091563e+00, 5.00000000e+00],\n",
       "       [1.89000000e+02, 2.30000000e+02, 1.05573700e+00, 6.00000000e+00],\n",
       "       [7.00000000e+00, 3.80000000e+01, 1.08173289e+00, 2.00000000e+00],\n",
       "       [1.28000000e+02, 1.66000000e+02, 1.12388675e+00, 3.00000000e+00],\n",
       "       [1.17000000e+02, 2.12000000e+02, 1.15172144e+00, 3.00000000e+00],\n",
       "       [1.83000000e+02, 2.00000000e+02, 1.15312496e+00, 6.00000000e+00],\n",
       "       [2.50000000e+01, 2.23000000e+02, 1.17325324e+00, 5.00000000e+00],\n",
       "       [3.60000000e+01, 1.80000000e+02, 1.18423212e+00, 3.00000000e+00],\n",
       "       [1.85000000e+02, 2.16000000e+02, 1.19546471e+00, 6.00000000e+00],\n",
       "       [2.11000000e+02, 2.24000000e+02, 1.22482123e+00, 4.00000000e+00],\n",
       "       [1.40000000e+02, 2.25000000e+02, 1.32626476e+00, 3.00000000e+00],\n",
       "       [1.38000000e+02, 2.07000000e+02, 1.35045653e+00, 4.00000000e+00],\n",
       "       [1.61000000e+02, 2.22000000e+02, 1.49318151e+00, 4.00000000e+00],\n",
       "       [1.94000000e+02, 1.97000000e+02, 1.49619316e+00, 8.00000000e+00],\n",
       "       [2.20000000e+02, 2.39000000e+02, 1.59175337e+00, 9.00000000e+00],\n",
       "       [2.15000000e+02, 2.31000000e+02, 1.67009794e+00, 6.00000000e+00],\n",
       "       [1.29000000e+02, 1.41000000e+02, 1.67580202e+00, 2.00000000e+00],\n",
       "       [2.01000000e+02, 2.51000000e+02, 1.69900231e+00, 6.00000000e+00],\n",
       "       [2.04000000e+02, 2.40000000e+02, 1.70929232e+00, 9.00000000e+00],\n",
       "       [2.70000000e+01, 6.00000000e+01, 1.75072784e+00, 2.00000000e+00],\n",
       "       [2.13000000e+02, 2.28000000e+02, 1.79407410e+00, 7.00000000e+00],\n",
       "       [2.27000000e+02, 2.33000000e+02, 1.84758143e+00, 7.00000000e+00],\n",
       "       [1.20000000e+02, 2.34000000e+02, 1.88066656e+00, 4.00000000e+00],\n",
       "       [2.08000000e+02, 2.55000000e+02, 1.92114302e+00, 1.00000000e+01],\n",
       "       [2.35000000e+02, 2.49000000e+02, 2.03402759e+00, 8.00000000e+00],\n",
       "       [2.19000000e+02, 2.37000000e+02, 2.15901881e+00, 6.00000000e+00],\n",
       "       [1.25000000e+02, 2.50000000e+02, 2.23527643e+00, 4.00000000e+00],\n",
       "       [2.32000000e+02, 2.46000000e+02, 2.26166269e+00, 8.00000000e+00],\n",
       "       [2.21000000e+02, 2.45000000e+02, 2.42437004e+00, 1.00000000e+01],\n",
       "       [2.41000000e+02, 2.57000000e+02, 2.46289389e+00, 1.20000000e+01],\n",
       "       [2.18000000e+02, 2.53000000e+02, 2.48409413e+00, 1.40000000e+01],\n",
       "       [2.29000000e+02, 2.48000000e+02, 2.61009104e+00, 9.00000000e+00],\n",
       "       [2.17000000e+02, 2.44000000e+02, 2.75677501e+00, 5.00000000e+00],\n",
       "       [1.27000000e+02, 2.62000000e+02, 2.83419027e+00, 5.00000000e+00],\n",
       "       [4.00000000e+00, 2.59000000e+02, 3.10980863e+00, 3.00000000e+00],\n",
       "       [2.42000000e+02, 2.61000000e+02, 3.32706211e+00, 9.00000000e+00],\n",
       "       [2.36000000e+02, 2.71000000e+02, 3.48015779e+00, 1.20000000e+01],\n",
       "       [1.82000000e+02, 2.67000000e+02, 3.72097174e+00, 1.00000000e+01],\n",
       "       [2.47000000e+02, 2.68000000e+02, 3.83145041e+00, 1.30000000e+01],\n",
       "       [2.43000000e+02, 2.60000000e+02, 4.00300409e+00, 1.00000000e+01],\n",
       "       [2.38000000e+02, 2.56000000e+02, 4.03584653e+00, 6.00000000e+00],\n",
       "       [2.64000000e+02, 2.73000000e+02, 4.11676131e+00, 1.30000000e+01],\n",
       "       [2.52000000e+02, 2.65000000e+02, 4.17760882e+00, 1.00000000e+01],\n",
       "       [2.54000000e+02, 2.63000000e+02, 5.05391485e+00, 1.90000000e+01],\n",
       "       [2.58000000e+02, 2.76000000e+02, 5.31022757e+00, 2.10000000e+01],\n",
       "       [2.69000000e+02, 2.72000000e+02, 6.20388183e+00, 1.70000000e+01],\n",
       "       [2.70000000e+02, 2.83000000e+02, 6.44511711e+00, 3.30000000e+01],\n",
       "       [2.79000000e+02, 2.81000000e+02, 6.59359584e+00, 2.30000000e+01],\n",
       "       [2.74000000e+02, 2.75000000e+02, 6.65621609e+00, 1.20000000e+01],\n",
       "       [4.00000000e+01, 2.78000000e+02, 7.11106083e+00, 1.40000000e+01],\n",
       "       [2.77000000e+02, 2.88000000e+02, 7.86878542e+00, 2.20000000e+01],\n",
       "       [2.66000000e+02, 2.80000000e+02, 8.04935282e+00, 1.00000000e+01],\n",
       "       [2.85000000e+02, 2.91000000e+02, 8.74822275e+00, 2.70000000e+01],\n",
       "       [2.82000000e+02, 2.89000000e+02, 9.84427829e+00, 2.40000000e+01],\n",
       "       [2.84000000e+02, 2.86000000e+02, 1.24273466e+01, 5.40000000e+01],\n",
       "       [2.90000000e+02, 2.94000000e+02, 1.51153312e+01, 7.60000000e+01],\n",
       "       [2.87000000e+02, 2.92000000e+02, 1.71152736e+01, 5.00000000e+01],\n",
       "       [2.93000000e+02, 2.95000000e+02, 2.31219894e+01, 1.00000000e+02],\n",
       "       [2.96000000e+02, 2.97000000e+02, 1.80270430e+02, 1.50000000e+02]])"
      ]
     },
     "execution_count": 5,
     "metadata": {},
     "output_type": "execute_result"
    }
   ],
   "source": [
    "Z = linkage(X, \"ward\")\n",
    "Z"
   ]
  },
  {
   "cell_type": "code",
   "execution_count": 6,
   "metadata": {},
   "outputs": [],
   "source": [
    "from scipy.cluster.hierarchy import cophenet\n",
    "from scipy.spatial.distance import pdist"
   ]
  },
  {
   "cell_type": "code",
   "execution_count": 7,
   "metadata": {},
   "outputs": [
    {
     "data": {
      "text/plain": [
       "0.9800148387574268"
      ]
     },
     "execution_count": 7,
     "metadata": {},
     "output_type": "execute_result"
    }
   ],
   "source": [
    "c, coph_dist = cophenet(Z, pdist(X))\n",
    "c"
   ]
  },
  {
   "cell_type": "code",
   "execution_count": 8,
   "metadata": {},
   "outputs": [
    {
     "data": {
      "text/plain": [
       "array([5.20000000e+01, 5.30000000e+01, 4.15105485e-02, 2.00000000e+00])"
      ]
     },
     "execution_count": 8,
     "metadata": {},
     "output_type": "execute_result"
    }
   ],
   "source": [
    "Z[0]"
   ]
  },
  {
   "cell_type": "code",
   "execution_count": 9,
   "metadata": {},
   "outputs": [
    {
     "data": {
      "text/plain": [
       "array([1.40000000e+01, 7.90000000e+01, 5.91375926e-02, 2.00000000e+00])"
      ]
     },
     "execution_count": 9,
     "metadata": {},
     "output_type": "execute_result"
    }
   ],
   "source": [
    "Z[1]"
   ]
  },
  {
   "cell_type": "code",
   "execution_count": 10,
   "metadata": {},
   "outputs": [
    {
     "data": {
      "text/plain": [
       "array([[5.20000000e+01, 5.30000000e+01, 4.15105485e-02, 2.00000000e+00],\n",
       "       [1.40000000e+01, 7.90000000e+01, 5.91375926e-02, 2.00000000e+00],\n",
       "       [3.30000000e+01, 6.80000000e+01, 7.10677929e-02, 2.00000000e+00],\n",
       "       [1.70000000e+01, 7.30000000e+01, 7.13712071e-02, 2.00000000e+00],\n",
       "       [1.00000000e+00, 8.00000000e+00, 7.54313099e-02, 2.00000000e+00],\n",
       "       [8.50000000e+01, 9.50000000e+01, 1.09277896e-01, 2.00000000e+00],\n",
       "       [1.08000000e+02, 1.31000000e+02, 1.10071548e-01, 2.00000000e+00],\n",
       "       [9.00000000e+00, 6.60000000e+01, 1.13022407e-01, 2.00000000e+00],\n",
       "       [1.50000000e+01, 6.90000000e+01, 1.14289714e-01, 2.00000000e+00],\n",
       "       [6.30000000e+01, 9.80000000e+01, 1.21200766e-01, 2.00000000e+00],\n",
       "       [1.07000000e+02, 1.15000000e+02, 1.21671017e-01, 2.00000000e+00],\n",
       "       [6.50000000e+01, 7.40000000e+01, 1.24900190e-01, 2.00000000e+00],\n",
       "       [5.80000000e+01, 6.10000000e+01, 1.40277358e-01, 2.00000000e+00],\n",
       "       [6.20000000e+01, 1.52000000e+02, 1.72599535e-01, 3.00000000e+00],\n",
       "       [4.10000000e+01, 1.58000000e+02, 1.77901377e-01, 3.00000000e+00],\n",
       "       [1.00000000e+01, 8.30000000e+01, 1.86354938e-01, 2.00000000e+00],\n",
       "       [1.14000000e+02, 1.39000000e+02, 2.04186147e-01, 2.00000000e+00],\n",
       "       [3.90000000e+01, 8.80000000e+01, 2.06282849e-01, 2.00000000e+00],\n",
       "       [7.00000000e+01, 9.60000000e+01, 2.19312547e-01, 2.00000000e+00],\n",
       "       [4.60000000e+01, 5.00000000e+01, 2.20492804e-01, 2.00000000e+00]])"
      ]
     },
     "execution_count": 10,
     "metadata": {},
     "output_type": "execute_result"
    }
   ],
   "source": [
    "Z[:20]"
   ]
  },
  {
   "cell_type": "code",
   "execution_count": 11,
   "metadata": {},
   "outputs": [
    {
     "name": "stdout",
     "output_type": "stream",
     "text": [
      "[33.         68.          0.07106779  2.        ]\n",
      "[15.         69.          0.11428971  2.        ]\n"
     ]
    }
   ],
   "source": [
    "print(Z[152 - len(X)]) # cluster 152\n",
    "print(Z[158 - len(X)]) # cluster 158"
   ]
  },
  {
   "cell_type": "code",
   "execution_count": 12,
   "metadata": {},
   "outputs": [
    {
     "data": {
      "text/plain": [
       "array([[ 9.83913054, -0.48729797],\n",
       "       [ 9.97792822, -0.56383202],\n",
       "       [ 9.8934927 , -0.44152257]])"
      ]
     },
     "execution_count": 12,
     "metadata": {},
     "output_type": "execute_result"
    }
   ],
   "source": [
    "X[[33, 62, 68]]"
   ]
  },
  {
   "cell_type": "code",
   "execution_count": 13,
   "metadata": {},
   "outputs": [
    {
     "data": {
      "image/png": "[encoded data removed]",
      "text/plain": [
       "<Figure size 432x288 with 1 Axes>"
      ]
     },
     "metadata": {
      "needs_background": "light"
     },
     "output_type": "display_data"
    }
   ],
   "source": [
    "idx = [33,62,68]\n",
    "plt.scatter(X[:,0], X[:,1])\n",
    "plt.scatter(X[idx,0], X[idx,1], c='r')\n",
    "\n",
    "idx2 = [15,69,41]\n",
    "plt.scatter(X[idx2,0], X[idx2,1], c='y')\n",
    "plt.show()"
   ]
  },
  {
   "cell_type": "markdown",
   "metadata": {},
   "source": [
    "### Representación gráfica de un dendrograma"
   ]
  },
  {
   "cell_type": "code",
   "execution_count": 14,
   "metadata": {},
   "outputs": [
    {
     "data": {
      "image/png": "[encoded data removed]",
      "text/plain": [
       "<Figure size 1440x576 with 1 Axes>"
      ]
     },
     "metadata": {
      "needs_background": "light"
     },
     "output_type": "display_data"
    }
   ],
   "source": [
    "plt.figure(figsize=[20,8])\n",
    "plt.title(\"Dendograma del clustering jerarquico\")\n",
    "plt.xlabel(\"Índices de la Muestra\")\n",
    "plt.ylabel(\"Distancias\")\n",
    "dendrogram(Z, leaf_rotation=90, color_threshold=0.1*180)\n",
    "plt.show()"
   ]
  },
  {
   "cell_type": "code",
   "execution_count": 15,
   "metadata": {},
   "outputs": [
    {
     "data": {
      "text/plain": [
       "array([[290.        , 294.        ,  15.11533118,  76.        ],\n",
       "       [287.        , 292.        ,  17.11527362,  50.        ],\n",
       "       [293.        , 295.        ,  23.12198936, 100.        ],\n",
       "       [296.        , 297.        , 180.27043021, 150.        ]])"
      ]
     },
     "execution_count": 15,
     "metadata": {},
     "output_type": "execute_result"
    }
   ],
   "source": [
    "Z[-4:]"
   ]
  },
  {
   "cell_type": "markdown",
   "metadata": {},
   "source": [
    "### Truncar el dendrograma"
   ]
  },
  {
   "cell_type": "code",
   "execution_count": 16,
   "metadata": {},
   "outputs": [
    {
     "data": {
      "image/png": "[encoded data removed]",
      "text/plain": [
       "<Figure size 1440x576 with 1 Axes>"
      ]
     },
     "metadata": {
      "needs_background": "light"
     },
     "output_type": "display_data"
    }
   ],
   "source": [
    "plt.figure(figsize=[20,8])\n",
    "plt.title(\"Dendograma del clustering jerarquico truncado\")\n",
    "plt.xlabel(\"Índices de la Muestra\")\n",
    "plt.ylabel(\"Distancias\")\n",
    "dendrogram(Z, truncate_mode=\"lastp\", p=10, show_leaf_counts=True, show_contracted=True)\n",
    "plt.show()"
   ]
  },
  {
   "cell_type": "markdown",
   "metadata": {},
   "source": [
    "### Dendrograma tuneado"
   ]
  },
  {
   "cell_type": "code",
   "execution_count": 17,
   "metadata": {},
   "outputs": [],
   "source": [
    "def dendrogram_tune(*args, **kwargs):\n",
    "    max_d = kwargs.pop('max_d', None)\n",
    "    if max_d and 'color_threshold' not in kwargs:\n",
    "        kwargs['color_threshold'] = max_d\n",
    "    annotate_above = kwargs.pop('annotate_above', 0)\n",
    "    \n",
    "    ddata = dendrogram(*args, **kwargs)\n",
    "    \n",
    "    if not kwargs.get('no_plot', False):\n",
    "        plt.title(\"Clustering jerárquico con Dendrograma truncado\")\n",
    "        plt.xlabel(\"Índice del Dataset (o tamaño del cluster)\")\n",
    "        plt.ylabel(\"Distancia\")\n",
    "        for i, d, c in zip(ddata['icoord'], ddata['dcoord'], ddata['color_list']):\n",
    "            x = 0.5 * sum(i[1:3])\n",
    "            y = d[1]\n",
    "            if y > annotate_above:\n",
    "                plt.plot(x, y, 'o', c=c)\n",
    "                plt.annotate('%.3g'%y, (x,y), xytext=(0, -5), \n",
    "                            textcoords=\"offset points\", va=\"top\", ha=\"center\")\n",
    "    \n",
    "    if max_d:\n",
    "        plt.axhline(y=max_d, c='k')\n",
    "        \n",
    "    return ddata"
   ]
  },
  {
   "cell_type": "code",
   "execution_count": 18,
   "metadata": {},
   "outputs": [
    {
     "data": {
      "image/png": "[encoded data removed]",
      "text/plain": [
       "<Figure size 432x288 with 1 Axes>"
      ]
     },
     "metadata": {
      "needs_background": "light"
     },
     "output_type": "display_data"
    }
   ],
   "source": [
    "dendrogram_tune(Z, truncate_mode='lastp', p=12, leaf_rotation=90, leaf_font_size=12, show_contracted=True\n",
    "                , annotate_above=10, max_d=20)\n",
    "plt.show()"
   ]
  },
  {
   "cell_type": "markdown",
   "metadata": {},
   "source": [
    "## Corte automático del dendograma"
   ]
  },
  {
   "cell_type": "markdown",
   "metadata": {},
   "source": [
    "incosistency_i = (h_i-avg(h_j))/std(h_j)"
   ]
  },
  {
   "cell_type": "code",
   "execution_count": 19,
   "metadata": {},
   "outputs": [],
   "source": [
    "from scipy.cluster.hierarchy import inconsistent"
   ]
  },
  {
   "cell_type": "code",
   "execution_count": 20,
   "metadata": {},
   "outputs": [
    {
     "data": {
      "text/plain": [
       "array([[ 3.63777835,  2.5556114 ,  4.        ,  1.35908084],\n",
       "       [ 3.89767268,  2.57216151,  7.        ,  1.54388156],\n",
       "       [ 3.05885714,  2.66707272,  6.        ,  1.87115096],\n",
       "       [ 4.92746418,  2.73259589,  7.        ,  1.39821573],\n",
       "       [ 4.76943311,  3.16276553,  6.        ,  1.60455941],\n",
       "       [ 5.27287862,  3.56604844,  7.        ,  2.00627335],\n",
       "       [ 8.22057081,  4.07583053,  7.        ,  1.69162096],\n",
       "       [ 7.83287032,  4.46681266,  7.        ,  2.07808207],\n",
       "       [11.38091435,  6.29430022,  7.        ,  1.86535033],\n",
       "       [37.25844589, 63.31539362,  7.        ,  2.25872377]])"
      ]
     },
     "execution_count": 20,
     "metadata": {},
     "output_type": "execute_result"
    }
   ],
   "source": [
    "depth = 3\n",
    "incons = inconsistent(Z, depth)\n",
    "incons[-10:]"
   ]
  },
  {
   "cell_type": "markdown",
   "metadata": {},
   "source": [
    "### Método del codo"
   ]
  },
  {
   "cell_type": "code",
   "execution_count": 21,
   "metadata": {},
   "outputs": [
    {
     "name": "stdout",
     "output_type": "stream",
     "text": [
      "[180.27043021  23.12198936  17.11527362  15.11533118  12.42734657\n",
      "   9.84427829   8.74822275   8.04935282   7.86878542   7.11106083]\n",
      "[151.1417251170261, 4.0067733037028646, -0.6880421759547719, 0.10491633265356626, 1.4870127310148735, 0.397185622492243, 0.5183025238968044, -0.5771571885277886]\n"
     ]
    },
    {
     "data": {
      "image/png": "[encoded data removed]",
      "text/plain": [
       "<Figure size 432x288 with 1 Axes>"
      ]
     },
     "metadata": {
      "needs_background": "light"
     },
     "output_type": "display_data"
    },
    {
     "name": "stdout",
     "output_type": "stream",
     "text": [
      "El número óptimo de clusters es 2\n"
     ]
    }
   ],
   "source": [
    "last = Z[-10:,2]\n",
    "last_rev = last[::-1]\n",
    "last_rev\n",
    "print(last_rev)\n",
    "idx = np.arange(1, len(last)+1)\n",
    "plt.plot(idx, last_rev)\n",
    "\n",
    "acc = np.diff(last,2)\n",
    "acc_rev = list(reversed(acc))\n",
    "print(acc_rev)\n",
    "plt.plot(idx[:-2]+1, acc_rev)\n",
    "plt.show()\n",
    "k = np.argmax(acc_rev) + 2\n",
    "print(\"El número óptimo de clusters es \" + str(k))"
   ]
  },
  {
   "cell_type": "code",
   "execution_count": 22,
   "metadata": {},
   "outputs": [
    {
     "data": {
      "image/png": "[encoded data removed]",
      "text/plain": [
       "<Figure size 432x288 with 1 Axes>"
      ]
     },
     "metadata": {
      "needs_background": "light"
     },
     "output_type": "display_data"
    }
   ],
   "source": [
    "c = np.random.multivariate_normal([40,40],[[20,1],[1,30]], size=[200,])\n",
    "d = np.random.multivariate_normal([80,80],[[30,1],[1,30]], size=[200,])\n",
    "e = np.random.multivariate_normal([0,100],[[100,1],[1,100]], size=[200,])\n",
    "\n",
    "X2 = np.concatenate((X,c,d,e))\n",
    "plt.scatter(X2[:,0], X2[:,1])\n",
    "plt.show()"
   ]
  },
  {
   "cell_type": "code",
   "execution_count": 23,
   "metadata": {},
   "outputs": [],
   "source": [
    "Z2 = linkage(X2,\"ward\")"
   ]
  },
  {
   "cell_type": "code",
   "execution_count": 24,
   "metadata": {},
   "outputs": [
    {
     "data": {
      "image/png": "[encoded data removed]",
      "text/plain": [
       "<Figure size 1440x576 with 1 Axes>"
      ]
     },
     "metadata": {
      "needs_background": "light"
     },
     "output_type": "display_data"
    }
   ],
   "source": [
    "plt.figure(figsize=[20,8])\n",
    "dendrogram_tune(\n",
    "    Z2,\n",
    "    truncate_mode=\"lastp\",\n",
    "    p=30,\n",
    "    leaf_rotation=90.,\n",
    "    leaf_font_size=10.,\n",
    "    show_contracted=True,\n",
    "    annotate_above = 40,\n",
    "    max_d = 170\n",
    ")\n",
    "plt.show()"
   ]
  },
  {
   "cell_type": "code",
   "execution_count": 25,
   "metadata": {},
   "outputs": [
    {
     "name": "stdout",
     "output_type": "stream",
     "text": [
      "[1262.52130994 1186.7588235   614.06504667  180.27043021  166.66434658\n",
      "  141.92437181   92.54599212   90.91214341   80.96733501   74.17015312]\n",
      "[-496.9312903933085, 138.899160367975, 420.1885328337619, -11.133891142854509, -24.638404918861724, 47.74453097733098, -8.31095969024598, 3.1476265066243485]\n"
     ]
    },
    {
     "data": {
      "image/png": "[encoded data removed]",
      "text/plain": [
       "<Figure size 432x288 with 1 Axes>"
      ]
     },
     "metadata": {
      "needs_background": "light"
     },
     "output_type": "display_data"
    },
    {
     "name": "stdout",
     "output_type": "stream",
     "text": [
      "El número óptimo de clusters es 4\n"
     ]
    }
   ],
   "source": [
    "last = Z2[-10:,2]\n",
    "last_rev = last[::-1]\n",
    "last_rev\n",
    "print(last_rev)\n",
    "idx = np.arange(1, len(last)+1)\n",
    "plt.plot(idx, last_rev)\n",
    "\n",
    "acc = np.diff(last,2)\n",
    "acc_rev = list(reversed(acc))\n",
    "print(acc_rev)\n",
    "plt.plot(idx[:-2]+1, acc_rev)\n",
    "plt.show()\n",
    "k = np.argmax(acc_rev) + 2\n",
    "print(\"El número óptimo de clusters es \" + str(k))"
   ]
  },
  {
   "cell_type": "code",
   "execution_count": 26,
   "metadata": {},
   "outputs": [
    {
     "name": "stdout",
     "output_type": "stream",
     "text": [
      "[[ 1.80874989  2.17061644 10.          2.44276733]\n",
      " [ 2.31731998  2.19649179 16.          2.52742372]\n",
      " [ 2.24511599  2.44225327  9.          2.37659088]\n",
      " [ 2.30462321  2.44191287 21.          2.6387508 ]\n",
      " [ 2.20673283  2.68378067 17.          2.84581581]\n",
      " [ 1.95309037  2.58100378 29.          4.05821033]\n",
      " [ 3.46173275  3.53735716 28.          3.29443647]\n",
      " [ 3.15857131  3.54836284 28.          3.93327935]\n",
      " [ 4.90210137  5.10301603 28.          3.57041559]\n",
      " [12.12200256 32.15467931 30.          5.22936105]]\n"
     ]
    }
   ],
   "source": [
    "print(inconsistent(Z, 5)[-10:])"
   ]
  },
  {
   "cell_type": "markdown",
   "metadata": {},
   "source": [
    "## Recuperar los clusters y sus elementos"
   ]
  },
  {
   "cell_type": "code",
   "execution_count": 27,
   "metadata": {},
   "outputs": [],
   "source": [
    "from scipy.cluster.hierarchy import fcluster"
   ]
  },
  {
   "cell_type": "code",
   "execution_count": 30,
   "metadata": {},
   "outputs": [
    {
     "data": {
      "text/plain": [
       "array([3, 3, 2, 3, 3, 3, 3, 3, 3, 2, 2, 3, 3, 2, 3, 3, 2, 3, 3, 3, 3, 3,\n",
       "       3, 3, 3, 3, 3, 3, 3, 3, 3, 3, 3, 3, 3, 3, 2, 2, 3, 3, 2, 3, 3, 3,\n",
       "       3, 3, 3, 2, 3, 3, 3, 3, 3, 3, 3, 3, 3, 2, 3, 2, 3, 3, 3, 3, 3, 2,\n",
       "       2, 3, 3, 3, 3, 3, 3, 3, 2, 3, 2, 2, 3, 3, 3, 2, 3, 2, 3, 2, 2, 3,\n",
       "       3, 3, 2, 3, 3, 2, 3, 2, 3, 3, 3, 2, 1, 1, 1, 1, 1, 1, 1, 1, 1, 1,\n",
       "       1, 1, 1, 1, 1, 1, 1, 1, 1, 1, 1, 1, 1, 1, 1, 1, 1, 1, 1, 1, 1, 1,\n",
       "       1, 1, 1, 1, 1, 1, 1, 1, 1, 1, 1, 1, 1, 1, 1, 1, 1, 1], dtype=int32)"
      ]
     },
     "execution_count": 30,
     "metadata": {},
     "output_type": "execute_result"
    }
   ],
   "source": [
    "max_d = 20\n",
    "clusters = fcluster(Z, max_d, criterion=\"distance\")\n",
    "clusters"
   ]
  },
  {
   "cell_type": "code",
   "execution_count": 35,
   "metadata": {},
   "outputs": [],
   "source": [
    "k = 3\n",
    "clusters = fcluster(Z, k, criterion=\"maxclust\")"
   ]
  },
  {
   "cell_type": "code",
   "execution_count": 34,
   "metadata": {},
   "outputs": [
    {
     "data": {
      "text/plain": [
       "149"
      ]
     },
     "execution_count": 34,
     "metadata": {},
     "output_type": "execute_result"
    }
   ],
   "source": [
    "fcluster(Z, 8, depth=10)\n",
    "len(Z)"
   ]
  }
 ],
 "metadata": {
  "kernelspec": {
   "display_name": "PyCharm (udemy-datascience)",
   "language": "python",
   "name": "pycharm-7be26b52"
  },
  "language_info": {
   "codemirror_mode": {
    "name": "ipython",
    "version": 3
   },
   "file_extension": ".py",
   "mimetype": "text/x-python",
   "name": "python",
   "nbconvert_exporter": "python",
   "pygments_lexer": "ipython3",
   "version": "3.7.4"
  }
 },
 "nbformat": 4,
 "nbformat_minor": 2
}
