{
 "cells": [
  {
   "cell_type": "markdown",
   "metadata": {},
   "source": [
    "# Concatenar y apendizar data sets"
   ]
  },
  {
   "cell_type": "code",
   "execution_count": 1,
   "metadata": {},
   "outputs": [],
   "source": [
    "import pandas as pd"
   ]
  },
  {
   "cell_type": "code",
   "execution_count": 10,
   "metadata": {},
   "outputs": [],
   "source": [
    "red_wine = pd.read_csv(\"../datasets/wine/winequality-red.csv\", sep = \";\")\n",
    "white_wine = pd.read_csv(\"../datasets/wine/winequality-white.csv\", sep=\";\")"
   ]
  },
  {
   "cell_type": "code",
   "execution_count": 16,
   "metadata": {},
   "outputs": [
    {
     "data": {
      "text/plain": [
       "array(['fixed acidity', 'volatile acidity', 'citric acid',\n",
       "       'residual sugar', 'chlorides', 'free sulfur dioxide',\n",
       "       'total sulfur dioxide', 'density', 'pH', 'sulphates', 'alcohol',\n",
       "       'quality'], dtype=object)"
      ]
     },
     "execution_count": 16,
     "metadata": {},
     "output_type": "execute_result"
    }
   ],
   "source": [
    "red_wine.columns.values"
   ]
  },
  {
   "cell_type": "code",
   "execution_count": 18,
   "metadata": {},
   "outputs": [
    {
     "data": {
      "text/plain": [
       "array(['fixed acidity', 'volatile acidity', 'citric acid',\n",
       "       'residual sugar', 'chlorides', 'free sulfur dioxide',\n",
       "       'total sulfur dioxide', 'density', 'pH', 'sulphates', 'alcohol',\n",
       "       'quality'], dtype=object)"
      ]
     },
     "execution_count": 18,
     "metadata": {},
     "output_type": "execute_result"
    }
   ],
   "source": [
    "white_wine.columns.values"
   ]
  },
  {
   "cell_type": "markdown",
   "metadata": {},
   "source": [
    "En pyhton, tenemos dos tipos de ejes:\n",
    "- axis = 0 denota el eje horizontal\n",
    "- axis = 1 denota el eje vertical"
   ]
  },
  {
   "cell_type": "code",
   "execution_count": 25,
   "metadata": {},
   "outputs": [],
   "source": [
    "wine_data = pd.concat([red_wine, white_wine], axis = 0)"
   ]
  },
  {
   "cell_type": "code",
   "execution_count": 27,
   "metadata": {},
   "outputs": [
    {
     "data": {
      "text/plain": [
       "(6497, 12)"
      ]
     },
     "execution_count": 27,
     "metadata": {},
     "output_type": "execute_result"
    }
   ],
   "source": [
    "wine_data.shape"
   ]
  },
  {
   "cell_type": "markdown",
   "metadata": {},
   "source": [
    "## Datos distribuidos"
   ]
  },
  {
   "cell_type": "code",
   "execution_count": 8,
   "metadata": {},
   "outputs": [
    {
     "data": {
      "text/plain": [
       "(1461, 4)"
      ]
     },
     "execution_count": 8,
     "metadata": {},
     "output_type": "execute_result"
    }
   ],
   "source": [
    "import pandas as pd\n",
    "data = pd.read_csv(\"../datasets/distributed-data/001.csv\")\n",
    "data.shape"
   ]
  },
  {
   "cell_type": "markdown",
   "metadata": {},
   "source": [
    "* Importar el primer fichero\n",
    "* Hacemos un bucle para ir recorriendo todos y cada uno de los ficheros\n",
    "    * Importante tener una consistencia en el nombre de los ficheros\n",
    "    * Importamos los ficheros uno a uno\n",
    "    * Cada uno de ellos debe añadirse al final del primer fichero que ya habíamos cargado\n",
    "* Repetimos el bucle hasta que no queden ficheros\n",
    "    "
   ]
  },
  {
   "cell_type": "code",
   "execution_count": 17,
   "metadata": {},
   "outputs": [
    {
     "name": "stdout",
     "output_type": "stream",
     "text": [
      "Exito de carga\n"
     ]
    }
   ],
   "source": [
    "filepath = \"../datasets/distributed-data/\"\n",
    "\n",
    "data = pd.read_csv(\"../datasets/distributed-data/001.csv\")\n",
    "\n",
    "final_length = len(data)\n",
    "\n",
    "for i in range(2,333):\n",
    "    if i < 10:\n",
    "        filename = \"00\" + str(i)\n",
    "    elif i < 100:\n",
    "        filename = \"0\" + str(i)\n",
    "    else:\n",
    "        filename = str(i)\n",
    "    \n",
    "    file = filepath + filename + \".csv\"\n",
    "    \n",
    "    temp_data = pd.read_csv(file)\n",
    "    final_length += len(temp_data)\n",
    "    \n",
    "    data = pd.concat([data, temp_data], axis=0)\n",
    "    \n",
    "print(\"Exito de carga\")"
   ]
  },
  {
   "cell_type": "code",
   "execution_count": 20,
   "metadata": {},
   "outputs": [
    {
     "data": {
      "text/plain": [
       "True"
      ]
     },
     "execution_count": 20,
     "metadata": {},
     "output_type": "execute_result"
    }
   ],
   "source": [
    "data.shape[0] == final_length"
   ]
  },
  {
   "cell_type": "markdown",
   "metadata": {},
   "source": [
    "## Joins de datasets"
   ]
  },
  {
   "cell_type": "code",
   "execution_count": 21,
   "metadata": {},
   "outputs": [],
   "source": [
    "filepath = \"../datasets/athletes/\""
   ]
  },
  {
   "cell_type": "code",
   "execution_count": 2,
   "metadata": {},
   "outputs": [],
   "source": [
    "# DF principal\n",
    "data_main = pd.read_csv(\"../datasets/athletes/Medals.csv\", encoding =\"ISO-8859-1\")\n",
    "data_athlets = data_main[\"Athlete\"].unique().tolist()\n",
    "\n",
    "# DF con información de pais\n",
    "data_country = pd.read_csv(\"../datasets/athletes/Athelete_Country_Map.csv\", encoding = \"ISO-8859-1\")\n",
    "\n",
    "# DF con información de deportes\n",
    "data_sports = pd.read_csv(\"../datasets/athletes/Athelete_Sports_Map.csv\", encoding = \"ISO-8859-1\")"
   ]
  },
  {
   "cell_type": "code",
   "execution_count": 7,
   "metadata": {},
   "outputs": [
    {
     "data": {
      "text/plain": [
       "True"
      ]
     },
     "execution_count": 7,
     "metadata": {},
     "output_type": "execute_result"
    }
   ],
   "source": [
    "# Quitar duplicados al dataframe Country, debido a que un unico atleta puede tener dos paises o más\n",
    "data_country_dp = data_country.drop_duplicates(subset = \"Athlete\")\n",
    "len(data_country_dp) == len(data_athlets)"
   ]
  },
  {
   "cell_type": "code",
   "execution_count": 8,
   "metadata": {},
   "outputs": [
    {
     "data": {
      "text/plain": [
       "(8618, 9)"
      ]
     },
     "execution_count": 8,
     "metadata": {},
     "output_type": "execute_result"
    }
   ],
   "source": [
    "data_main_country = pd.merge(left = data_main, right=data_country_dp, \n",
    "                             left_on=\"Athlete\", right_on = \"Athlete\")\n",
    "data_main_country.shape"
   ]
  },
  {
   "cell_type": "code",
   "execution_count": 9,
   "metadata": {},
   "outputs": [
    {
     "data": {
      "text/plain": [
       "True"
      ]
     },
     "execution_count": 9,
     "metadata": {},
     "output_type": "execute_result"
    }
   ],
   "source": [
    "# Quitar duplicados al dataframe Sports, debido a que un unico atleta puede tener dos deportes o más\n",
    "data_sports_dp = data_sports.drop_duplicates(subset = \"Athlete\")\n",
    "len(data_country_dp) == len(data_athlets)"
   ]
  },
  {
   "cell_type": "code",
   "execution_count": 10,
   "metadata": {},
   "outputs": [
    {
     "data": {
      "text/plain": [
       "(8618, 10)"
      ]
     },
     "execution_count": 10,
     "metadata": {},
     "output_type": "execute_result"
    }
   ],
   "source": [
    "data_final = pd.merge(left= data_main_country, right = data_sports_dp, \n",
    "                      on=\"Athlete\")\n",
    "data_final.shape"
   ]
  },
  {
   "cell_type": "markdown",
   "metadata": {},
   "source": [
    "## Tipos de Joins"
   ]
  },
  {
   "cell_type": "code",
   "execution_count": 5,
   "metadata": {},
   "outputs": [],
   "source": [
    "from IPython.display import Image\n",
    "import numpy as np"
   ]
  },
  {
   "cell_type": "code",
   "execution_count": 11,
   "metadata": {},
   "outputs": [],
   "source": [
    "out_athletes = np.random.choice(data_main[\"Athlete\"], size = 6, replace = False)"
   ]
  },
  {
   "cell_type": "code",
   "execution_count": 20,
   "metadata": {},
   "outputs": [],
   "source": [
    "data_country_dlt = data_country_dp[(~data_country_dp[\"Athlete\"].isin(out_athletes)) & \n",
    "                                   (data_country_dp[\"Athlete\"] != \"Michael Phelps\")]\n",
    "\n",
    "data_sports_dlt = data_sports_dp[(~data_sports_dp[\"Athlete\"].isin(out_athletes)) & \n",
    "                                   (data_sports_dp[\"Athlete\"] != \"Michael Phelps\")]\n",
    "\n",
    "data_main_dlt = data_main[(~data_main[\"Athlete\"].isin(out_athletes)) & \n",
    "                                   (data_main[\"Athlete\"] != \"Michael Phelps\")]"
   ]
  },
  {
   "cell_type": "code",
   "execution_count": 28,
   "metadata": {},
   "outputs": [
    {
     "name": "stdout",
     "output_type": "stream",
     "text": [
      "country_dlt = 6949 sports_dlt = 6949 main_dlt = 8607\n"
     ]
    }
   ],
   "source": [
    "print(\"country_dlt = \" + str(len(data_country_dlt))\n",
    "     + \" sports_dlt = \" + str(len(data_sports_dlt))\n",
    "     + \" main_dlt = \" + str(len(data_main_dlt)))"
   ]
  },
  {
   "cell_type": "markdown",
   "metadata": {},
   "source": [
    "### Inner Join\n",
    "* Devuelve un data frame con las filas que tienen valor tanto en el primer como en el segundo data frame que estamos uniendo\n",
    "* El número de filas será igual al número de filas **comunes** que tengan ambos data sets\n",
    "    * Data Set A tiene 60 filas\n",
    "    * Data Set B tiene 50 filas\n",
    "    * Ambos comparten 30 filas\n",
    "    * Entonces A Inner Join B tendrá 30 filas\n",
    "* En términos de teoría de conjuntos, se trata de la intersección de ls dos conjuntos"
   ]
  },
  {
   "cell_type": "code",
   "execution_count": 34,
   "metadata": {},
   "outputs": [
    {
     "data": {
      "text/html": [
       "<div>\n",
       "<style scoped>\n",
       "    .dataframe tbody tr th:only-of-type {\n",
       "        vertical-align: middle;\n",
       "    }\n",
       "\n",
       "    .dataframe tbody tr th {\n",
       "        vertical-align: top;\n",
       "    }\n",
       "\n",
       "    .dataframe thead th {\n",
       "        text-align: right;\n",
       "    }\n",
       "</style>\n",
       "<table border=\"1\" class=\"dataframe\">\n",
       "  <thead>\n",
       "    <tr style=\"text-align: right;\">\n",
       "      <th></th>\n",
       "      <th>Athlete</th>\n",
       "      <th>Age</th>\n",
       "      <th>Year</th>\n",
       "      <th>Closing Ceremony Date</th>\n",
       "      <th>Gold Medals</th>\n",
       "      <th>Silver Medals</th>\n",
       "      <th>Bronze Medals</th>\n",
       "      <th>Total Medals</th>\n",
       "      <th>Country</th>\n",
       "    </tr>\n",
       "  </thead>\n",
       "  <tbody>\n",
       "    <tr>\n",
       "      <th>0</th>\n",
       "      <td>Natalie Coughlin</td>\n",
       "      <td>25.0</td>\n",
       "      <td>2008</td>\n",
       "      <td>08/24/2008</td>\n",
       "      <td>1</td>\n",
       "      <td>2</td>\n",
       "      <td>3</td>\n",
       "      <td>6</td>\n",
       "      <td>United States</td>\n",
       "    </tr>\n",
       "    <tr>\n",
       "      <th>1</th>\n",
       "      <td>Natalie Coughlin</td>\n",
       "      <td>21.0</td>\n",
       "      <td>2004</td>\n",
       "      <td>08/29/2004</td>\n",
       "      <td>2</td>\n",
       "      <td>2</td>\n",
       "      <td>1</td>\n",
       "      <td>5</td>\n",
       "      <td>United States</td>\n",
       "    </tr>\n",
       "    <tr>\n",
       "      <th>2</th>\n",
       "      <td>Natalie Coughlin</td>\n",
       "      <td>29.0</td>\n",
       "      <td>2012</td>\n",
       "      <td>08/12/2012</td>\n",
       "      <td>0</td>\n",
       "      <td>0</td>\n",
       "      <td>1</td>\n",
       "      <td>1</td>\n",
       "      <td>United States</td>\n",
       "    </tr>\n",
       "    <tr>\n",
       "      <th>3</th>\n",
       "      <td>Aleksey Nemov</td>\n",
       "      <td>24.0</td>\n",
       "      <td>2000</td>\n",
       "      <td>10/01/2000</td>\n",
       "      <td>2</td>\n",
       "      <td>1</td>\n",
       "      <td>3</td>\n",
       "      <td>6</td>\n",
       "      <td>Russia</td>\n",
       "    </tr>\n",
       "    <tr>\n",
       "      <th>4</th>\n",
       "      <td>Alicia Coutts</td>\n",
       "      <td>24.0</td>\n",
       "      <td>2012</td>\n",
       "      <td>08/12/2012</td>\n",
       "      <td>1</td>\n",
       "      <td>3</td>\n",
       "      <td>1</td>\n",
       "      <td>5</td>\n",
       "      <td>Australia</td>\n",
       "    </tr>\n",
       "  </tbody>\n",
       "</table>\n",
       "</div>"
      ],
      "text/plain": [
       "            Athlete   Age  Year Closing Ceremony Date  Gold Medals  \\\n",
       "0  Natalie Coughlin  25.0  2008            08/24/2008            1   \n",
       "1  Natalie Coughlin  21.0  2004            08/29/2004            2   \n",
       "2  Natalie Coughlin  29.0  2012            08/12/2012            0   \n",
       "3     Aleksey Nemov  24.0  2000            10/01/2000            2   \n",
       "4     Alicia Coutts  24.0  2012            08/12/2012            1   \n",
       "\n",
       "   Silver Medals  Bronze Medals  Total Medals        Country  \n",
       "0              2              3             6  United States  \n",
       "1              2              1             5  United States  \n",
       "2              0              1             1  United States  \n",
       "3              1              3             6         Russia  \n",
       "4              3              1             5      Australia  "
      ]
     },
     "execution_count": 34,
     "metadata": {},
     "output_type": "execute_result"
    }
   ],
   "source": [
    "merged_inner = pd.merge(left = data_main, right = data_country_dlt,\n",
    "                       how = \"inner\", left_on = \"Athlete\", right_on = \"Athlete\")\n",
    "merged_inner.head()"
   ]
  },
  {
   "cell_type": "markdown",
   "metadata": {},
   "source": [
    "### Left Join\n",
    "* Devuelve un data frame con las filas que tuvieran valor en el dataset de la izquierda, sin importar si tienen correspondencia en el de la derecha o no-\n",
    "* Las filas de data frame final que no correspondan a ninguna fila del data frame derecho, tendrán NAs en las columnas del data frame derecho.\n",
    "* El número de filas será igual al número de filas del data frame izquierdo\n",
    "    * Data Set A tiene 60 filas\n",
    "    * Data Set B tiene 50 filas\n",
    "    * Entonces A Left Join B tendrá 60 filas\n",
    "* En términos de teoría de conjuntos, se trata del propio data set de la izquierda quien, además tiene la intersección en su interior."
   ]
  },
  {
   "cell_type": "code",
   "execution_count": 53,
   "metadata": {},
   "outputs": [
    {
     "data": {
      "text/html": [
       "<div>\n",
       "<style scoped>\n",
       "    .dataframe tbody tr th:only-of-type {\n",
       "        vertical-align: middle;\n",
       "    }\n",
       "\n",
       "    .dataframe tbody tr th {\n",
       "        vertical-align: top;\n",
       "    }\n",
       "\n",
       "    .dataframe thead th {\n",
       "        text-align: right;\n",
       "    }\n",
       "</style>\n",
       "<table border=\"1\" class=\"dataframe\">\n",
       "  <thead>\n",
       "    <tr style=\"text-align: right;\">\n",
       "      <th></th>\n",
       "      <th>Athlete</th>\n",
       "      <th>Age</th>\n",
       "      <th>Year</th>\n",
       "      <th>Closing Ceremony Date</th>\n",
       "      <th>Gold Medals</th>\n",
       "      <th>Silver Medals</th>\n",
       "      <th>Bronze Medals</th>\n",
       "      <th>Total Medals</th>\n",
       "      <th>Country</th>\n",
       "    </tr>\n",
       "  </thead>\n",
       "  <tbody>\n",
       "    <tr>\n",
       "      <th>0</th>\n",
       "      <td>Michael Phelps</td>\n",
       "      <td>23.0</td>\n",
       "      <td>2008</td>\n",
       "      <td>08/24/2008</td>\n",
       "      <td>8</td>\n",
       "      <td>0</td>\n",
       "      <td>0</td>\n",
       "      <td>8</td>\n",
       "      <td>NaN</td>\n",
       "    </tr>\n",
       "    <tr>\n",
       "      <th>1</th>\n",
       "      <td>Michael Phelps</td>\n",
       "      <td>19.0</td>\n",
       "      <td>2004</td>\n",
       "      <td>08/29/2004</td>\n",
       "      <td>6</td>\n",
       "      <td>0</td>\n",
       "      <td>2</td>\n",
       "      <td>8</td>\n",
       "      <td>NaN</td>\n",
       "    </tr>\n",
       "    <tr>\n",
       "      <th>2</th>\n",
       "      <td>Michael Phelps</td>\n",
       "      <td>27.0</td>\n",
       "      <td>2012</td>\n",
       "      <td>08/12/2012</td>\n",
       "      <td>4</td>\n",
       "      <td>2</td>\n",
       "      <td>0</td>\n",
       "      <td>6</td>\n",
       "      <td>NaN</td>\n",
       "    </tr>\n",
       "    <tr>\n",
       "      <th>4757</th>\n",
       "      <td>Christian Schulte</td>\n",
       "      <td>28.0</td>\n",
       "      <td>2004</td>\n",
       "      <td>08/29/2004</td>\n",
       "      <td>0</td>\n",
       "      <td>0</td>\n",
       "      <td>1</td>\n",
       "      <td>1</td>\n",
       "      <td>NaN</td>\n",
       "    </tr>\n",
       "    <tr>\n",
       "      <th>5158</th>\n",
       "      <td>Trine Haltvik</td>\n",
       "      <td>35.0</td>\n",
       "      <td>2000</td>\n",
       "      <td>10/01/2000</td>\n",
       "      <td>0</td>\n",
       "      <td>0</td>\n",
       "      <td>1</td>\n",
       "      <td>1</td>\n",
       "      <td>NaN</td>\n",
       "    </tr>\n",
       "    <tr>\n",
       "      <th>5300</th>\n",
       "      <td>Brett McClure</td>\n",
       "      <td>23.0</td>\n",
       "      <td>2004</td>\n",
       "      <td>08/29/2004</td>\n",
       "      <td>0</td>\n",
       "      <td>1</td>\n",
       "      <td>0</td>\n",
       "      <td>1</td>\n",
       "      <td>NaN</td>\n",
       "    </tr>\n",
       "    <tr>\n",
       "      <th>5770</th>\n",
       "      <td>Yevgeny Plyushchenko</td>\n",
       "      <td>27.0</td>\n",
       "      <td>2010</td>\n",
       "      <td>02/28/2010</td>\n",
       "      <td>0</td>\n",
       "      <td>1</td>\n",
       "      <td>0</td>\n",
       "      <td>1</td>\n",
       "      <td>NaN</td>\n",
       "    </tr>\n",
       "    <tr>\n",
       "      <th>5792</th>\n",
       "      <td>Yevgeny Plyushchenko</td>\n",
       "      <td>23.0</td>\n",
       "      <td>2006</td>\n",
       "      <td>02/26/2006</td>\n",
       "      <td>1</td>\n",
       "      <td>0</td>\n",
       "      <td>0</td>\n",
       "      <td>1</td>\n",
       "      <td>NaN</td>\n",
       "    </tr>\n",
       "    <tr>\n",
       "      <th>5810</th>\n",
       "      <td>Yevgeny Plyushchenko</td>\n",
       "      <td>19.0</td>\n",
       "      <td>2002</td>\n",
       "      <td>02/24/2002</td>\n",
       "      <td>0</td>\n",
       "      <td>1</td>\n",
       "      <td>0</td>\n",
       "      <td>1</td>\n",
       "      <td>NaN</td>\n",
       "    </tr>\n",
       "    <tr>\n",
       "      <th>7497</th>\n",
       "      <td>Natalie Cook</td>\n",
       "      <td>25.0</td>\n",
       "      <td>2000</td>\n",
       "      <td>10/01/2000</td>\n",
       "      <td>1</td>\n",
       "      <td>0</td>\n",
       "      <td>0</td>\n",
       "      <td>1</td>\n",
       "      <td>NaN</td>\n",
       "    </tr>\n",
       "    <tr>\n",
       "      <th>7555</th>\n",
       "      <td>Maya Moore</td>\n",
       "      <td>23.0</td>\n",
       "      <td>2012</td>\n",
       "      <td>08/12/2012</td>\n",
       "      <td>1</td>\n",
       "      <td>0</td>\n",
       "      <td>0</td>\n",
       "      <td>1</td>\n",
       "      <td>NaN</td>\n",
       "    </tr>\n",
       "  </tbody>\n",
       "</table>\n",
       "</div>"
      ],
      "text/plain": [
       "                   Athlete   Age  Year Closing Ceremony Date  Gold Medals  \\\n",
       "0           Michael Phelps  23.0  2008            08/24/2008            8   \n",
       "1           Michael Phelps  19.0  2004            08/29/2004            6   \n",
       "2           Michael Phelps  27.0  2012            08/12/2012            4   \n",
       "4757     Christian Schulte  28.0  2004            08/29/2004            0   \n",
       "5158         Trine Haltvik  35.0  2000            10/01/2000            0   \n",
       "5300         Brett McClure  23.0  2004            08/29/2004            0   \n",
       "5770  Yevgeny Plyushchenko  27.0  2010            02/28/2010            0   \n",
       "5792  Yevgeny Plyushchenko  23.0  2006            02/26/2006            1   \n",
       "5810  Yevgeny Plyushchenko  19.0  2002            02/24/2002            0   \n",
       "7497          Natalie Cook  25.0  2000            10/01/2000            1   \n",
       "7555            Maya Moore  23.0  2012            08/12/2012            1   \n",
       "\n",
       "      Silver Medals  Bronze Medals  Total Medals Country  \n",
       "0                 0              0             8     NaN  \n",
       "1                 0              2             8     NaN  \n",
       "2                 2              0             6     NaN  \n",
       "4757              0              1             1     NaN  \n",
       "5158              0              1             1     NaN  \n",
       "5300              1              0             1     NaN  \n",
       "5770              1              0             1     NaN  \n",
       "5792              0              0             1     NaN  \n",
       "5810              1              0             1     NaN  \n",
       "7497              0              0             1     NaN  \n",
       "7555              0              0             1     NaN  "
      ]
     },
     "execution_count": 53,
     "metadata": {},
     "output_type": "execute_result"
    }
   ],
   "source": [
    "merged_left = pd.merge(left = data_main, right = data_country_dlt,\n",
    "                      how = \"left\", on=\"Athlete\")\n",
    "\n",
    "merged_left[merged_left[\"Country\"].isnull()]"
   ]
  },
  {
   "cell_type": "markdown",
   "metadata": {},
   "source": [
    "### Right Join\n",
    "* Devuelve un dataframe con las filas que tuvieran valor en el dataset de la derecha, sin importar si tienen correspondencia en el de la izquierda o no.\n",
    "* Las filas del data frame final que no correspondan a ninguna fila del data frame izquierdo, tendrán NAs en las columnas del data frame izquierdo.\n",
    "* El número de filas será igual al número de filas del data frame derecho.\n",
    "    * Data Set A tiene 60 filas\n",
    "    * Data Set B tiene 50 filas\n",
    "    * Entonces A Right join B tendrá 50 filas\n",
    "* En términos de teoría de conjuntos, se trata del propio data set de la derecha quien, además tiene la intersección en su interior."
   ]
  },
  {
   "cell_type": "code",
   "execution_count": 51,
   "metadata": {},
   "outputs": [
    {
     "data": {
      "text/plain": [
       "8614"
      ]
     },
     "execution_count": 51,
     "metadata": {},
     "output_type": "execute_result"
    }
   ],
   "source": [
    "merged_right = pd.merge(left = data_main_dlt, right = data_country_dp,\n",
    "                      how = \"right\", on=\"Athlete\")\n",
    "len(merged_right)"
   ]
  },
  {
   "cell_type": "markdown",
   "metadata": {},
   "source": [
    "### Outer Join\n",
    "* Devuelve un data frame con todas las filas de ambos, reemplazando las ausencias d euno o de otro con NAs en la región específica.\n",
    "* Las filas del data frame final que no correspondan a ninguna fila del data frame derecho (o izquierdo), tendrán NAs en las columnas del data frame derecho (o izquerdo).\n",
    "* El número de filas será igual al máximo número de filas de ambos data frames\n",
    "    * Data Set A tiene 60 filas\n",
    "    * Data Set B tienen 50 filas\n",
    "    * Ambos comparten 30 filas\n",
    "    * Entonces A Outer Join B tendrá 60 + 50 - 30 = 80 filas\n",
    "* En términos de teoría de conjuntos, se trata de la unión de conjuntos."
   ]
  },
  {
   "cell_type": "code",
   "execution_count": 56,
   "metadata": {},
   "outputs": [],
   "source": [
    "data_country_jb = data_country_dlt.append(\n",
    "    {\n",
    "        \"Athlete\" : \"José La Rosa\",\n",
    "        \"Country\" : \"Perú\"\n",
    "    }, ignore_index = True\n",
    ")"
   ]
  },
  {
   "cell_type": "code",
   "execution_count": 58,
   "metadata": {},
   "outputs": [
    {
     "data": {
      "text/plain": [
       "8619"
      ]
     },
     "execution_count": 58,
     "metadata": {},
     "output_type": "execute_result"
    }
   ],
   "source": [
    "merged_outer = pd.merge(left = data_main, right = data_country_jb,\n",
    "                       how = \"outer\", on = \"Athlete\")\n",
    "len(merged_outer)"
   ]
  }
 ],
 "metadata": {
  "kernelspec": {
   "display_name": "Python 3",
   "language": "python",
   "name": "python3"
  },
  "language_info": {
   "codemirror_mode": {
    "name": "ipython",
    "version": 3
   },
   "file_extension": ".py",
   "mimetype": "text/x-python",
   "name": "python",
   "nbconvert_exporter": "python",
   "pygments_lexer": "ipython3",
   "version": "3.6.5"
  }
 },
 "nbformat": 4,
 "nbformat_minor": 2
}
