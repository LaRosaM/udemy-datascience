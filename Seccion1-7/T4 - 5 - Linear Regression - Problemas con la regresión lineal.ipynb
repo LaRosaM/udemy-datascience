{
 "cells": [
  {
   "cell_type": "markdown",
   "metadata": {},
   "source": [
    "# El tratamiento de las variables categóricas"
   ]
  },
  {
   "cell_type": "code",
   "execution_count": 4,
   "metadata": {
    "pycharm": {
     "is_executing": false
    }
   },
   "outputs": [],
   "source": [
    "import pandas as pd\n",
    "import numpy as np\n",
    "from sklearn.linear_model import LinearRegression"
   ]
  },
  {
   "cell_type": "code",
   "execution_count": 5,
   "metadata": {
    "pycharm": {
     "is_executing": false
    }
   },
   "outputs": [],
   "source": [
    "df = pd.read_csv(\"../datasets/ecom-expense/Ecom Expense.csv\")"
   ]
  },
  {
   "cell_type": "code",
   "execution_count": 6,
   "metadata": {
    "pycharm": {
     "is_executing": false
    }
   },
   "outputs": [
    {
     "data": {
      "text/plain": "  Transaction ID  Age    Items   Monthly Income  Transaction Time  Record  \\\n0         TXN001    42       10            7313        627.668127       5   \n1         TXN002    24        8           17747        126.904567       3   \n2         TXN003    47       11           22845        873.469701       2   \n3         TXN004    50       11           18552        380.219428       7   \n4         TXN005    60        2           14439        403.374223       2   \n\n   Gender City Tier  Total Spend  \n0  Female    Tier 1  4198.385084  \n1  Female    Tier 2  4134.976648  \n2    Male    Tier 2  5166.614455  \n3  Female    Tier 1  7784.447676  \n4  Female    Tier 2  3254.160485  ",
      "text/html": "<div>\n<style scoped>\n    .dataframe tbody tr th:only-of-type {\n        vertical-align: middle;\n    }\n\n    .dataframe tbody tr th {\n        vertical-align: top;\n    }\n\n    .dataframe thead th {\n        text-align: right;\n    }\n</style>\n<table border=\"1\" class=\"dataframe\">\n  <thead>\n    <tr style=\"text-align: right;\">\n      <th></th>\n      <th>Transaction ID</th>\n      <th>Age</th>\n      <th>Items</th>\n      <th>Monthly Income</th>\n      <th>Transaction Time</th>\n      <th>Record</th>\n      <th>Gender</th>\n      <th>City Tier</th>\n      <th>Total Spend</th>\n    </tr>\n  </thead>\n  <tbody>\n    <tr>\n      <td>0</td>\n      <td>TXN001</td>\n      <td>42</td>\n      <td>10</td>\n      <td>7313</td>\n      <td>627.668127</td>\n      <td>5</td>\n      <td>Female</td>\n      <td>Tier 1</td>\n      <td>4198.385084</td>\n    </tr>\n    <tr>\n      <td>1</td>\n      <td>TXN002</td>\n      <td>24</td>\n      <td>8</td>\n      <td>17747</td>\n      <td>126.904567</td>\n      <td>3</td>\n      <td>Female</td>\n      <td>Tier 2</td>\n      <td>4134.976648</td>\n    </tr>\n    <tr>\n      <td>2</td>\n      <td>TXN003</td>\n      <td>47</td>\n      <td>11</td>\n      <td>22845</td>\n      <td>873.469701</td>\n      <td>2</td>\n      <td>Male</td>\n      <td>Tier 2</td>\n      <td>5166.614455</td>\n    </tr>\n    <tr>\n      <td>3</td>\n      <td>TXN004</td>\n      <td>50</td>\n      <td>11</td>\n      <td>18552</td>\n      <td>380.219428</td>\n      <td>7</td>\n      <td>Female</td>\n      <td>Tier 1</td>\n      <td>7784.447676</td>\n    </tr>\n    <tr>\n      <td>4</td>\n      <td>TXN005</td>\n      <td>60</td>\n      <td>2</td>\n      <td>14439</td>\n      <td>403.374223</td>\n      <td>2</td>\n      <td>Female</td>\n      <td>Tier 2</td>\n      <td>3254.160485</td>\n    </tr>\n  </tbody>\n</table>\n</div>"
     },
     "metadata": {},
     "output_type": "execute_result",
     "execution_count": 6
    }
   ],
   "source": [
    "df.head()\n",
    "# Transaccion, Edad, Items que ha comprado, Ingresos mensuales, Tiempo de trx, Record, Sexo, Tipo economico, Gasto total"
   ]
  },
  {
   "cell_type": "markdown",
   "metadata": {},
   "source": [
    "### Queremos predecir los gastos de un mes en particular en funcion si es hombre, mujer y dependiendo del sector economico"
   ]
  },
  {
   "cell_type": "code",
   "execution_count": 7,
   "metadata": {
    "pycharm": {
     "is_executing": false
    }
   },
   "outputs": [],
   "source": [
    "dummy_gender = pd.get_dummies(df[\"Gender\"], prefix = \"Gender\")\n",
    "dummy_city_tier = pd.get_dummies(df[\"City Tier\"], prefix = \"City\")"
   ]
  },
  {
   "cell_type": "code",
   "execution_count": 8,
   "metadata": {
    "pycharm": {
     "is_executing": false
    }
   },
   "outputs": [
    {
     "data": {
      "text/plain": "   Gender_Female  Gender_Male\n0              1            0\n1              1            0\n2              0            1\n3              1            0\n4              1            0",
      "text/html": "<div>\n<style scoped>\n    .dataframe tbody tr th:only-of-type {\n        vertical-align: middle;\n    }\n\n    .dataframe tbody tr th {\n        vertical-align: top;\n    }\n\n    .dataframe thead th {\n        text-align: right;\n    }\n</style>\n<table border=\"1\" class=\"dataframe\">\n  <thead>\n    <tr style=\"text-align: right;\">\n      <th></th>\n      <th>Gender_Female</th>\n      <th>Gender_Male</th>\n    </tr>\n  </thead>\n  <tbody>\n    <tr>\n      <td>0</td>\n      <td>1</td>\n      <td>0</td>\n    </tr>\n    <tr>\n      <td>1</td>\n      <td>1</td>\n      <td>0</td>\n    </tr>\n    <tr>\n      <td>2</td>\n      <td>0</td>\n      <td>1</td>\n    </tr>\n    <tr>\n      <td>3</td>\n      <td>1</td>\n      <td>0</td>\n    </tr>\n    <tr>\n      <td>4</td>\n      <td>1</td>\n      <td>0</td>\n    </tr>\n  </tbody>\n</table>\n</div>"
     },
     "metadata": {},
     "output_type": "execute_result",
     "execution_count": 8
    }
   ],
   "source": [
    "dummy_gender.head()"
   ]
  },
  {
   "cell_type": "code",
   "execution_count": 9,
   "metadata": {
    "pycharm": {
     "is_executing": false
    }
   },
   "outputs": [
    {
     "data": {
      "text/plain": "   City_Tier 1  City_Tier 2  City_Tier 3\n0            1            0            0\n1            0            1            0\n2            0            1            0\n3            1            0            0\n4            0            1            0",
      "text/html": "<div>\n<style scoped>\n    .dataframe tbody tr th:only-of-type {\n        vertical-align: middle;\n    }\n\n    .dataframe tbody tr th {\n        vertical-align: top;\n    }\n\n    .dataframe thead th {\n        text-align: right;\n    }\n</style>\n<table border=\"1\" class=\"dataframe\">\n  <thead>\n    <tr style=\"text-align: right;\">\n      <th></th>\n      <th>City_Tier 1</th>\n      <th>City_Tier 2</th>\n      <th>City_Tier 3</th>\n    </tr>\n  </thead>\n  <tbody>\n    <tr>\n      <td>0</td>\n      <td>1</td>\n      <td>0</td>\n      <td>0</td>\n    </tr>\n    <tr>\n      <td>1</td>\n      <td>0</td>\n      <td>1</td>\n      <td>0</td>\n    </tr>\n    <tr>\n      <td>2</td>\n      <td>0</td>\n      <td>1</td>\n      <td>0</td>\n    </tr>\n    <tr>\n      <td>3</td>\n      <td>1</td>\n      <td>0</td>\n      <td>0</td>\n    </tr>\n    <tr>\n      <td>4</td>\n      <td>0</td>\n      <td>1</td>\n      <td>0</td>\n    </tr>\n  </tbody>\n</table>\n</div>"
     },
     "metadata": {},
     "output_type": "execute_result",
     "execution_count": 9
    }
   ],
   "source": [
    "dummy_city_tier.head()"
   ]
  },
  {
   "cell_type": "code",
   "execution_count": 10,
   "metadata": {
    "pycharm": {
     "is_executing": false
    }
   },
   "outputs": [
    {
     "data": {
      "text/plain": "['Transaction ID',\n 'Age ',\n ' Items ',\n 'Monthly Income',\n 'Transaction Time',\n 'Record',\n 'Gender',\n 'City Tier',\n 'Total Spend']"
     },
     "metadata": {},
     "output_type": "execute_result",
     "execution_count": 10
    }
   ],
   "source": [
    "column_names = df.columns.values.tolist()\n",
    "column_names"
   ]
  },
  {
   "cell_type": "code",
   "execution_count": 11,
   "metadata": {
    "pycharm": {
     "is_executing": false
    }
   },
   "outputs": [
    {
     "data": {
      "text/plain": "  Transaction ID  Age    Items   Monthly Income  Transaction Time  Record  \\\n0         TXN001    42       10            7313        627.668127       5   \n1         TXN002    24        8           17747        126.904567       3   \n2         TXN003    47       11           22845        873.469701       2   \n3         TXN004    50       11           18552        380.219428       7   \n4         TXN005    60        2           14439        403.374223       2   \n\n   Gender City Tier  Total Spend  Gender_Female  Gender_Male  \n0  Female    Tier 1  4198.385084              1            0  \n1  Female    Tier 2  4134.976648              1            0  \n2    Male    Tier 2  5166.614455              0            1  \n3  Female    Tier 1  7784.447676              1            0  \n4  Female    Tier 2  3254.160485              1            0  ",
      "text/html": "<div>\n<style scoped>\n    .dataframe tbody tr th:only-of-type {\n        vertical-align: middle;\n    }\n\n    .dataframe tbody tr th {\n        vertical-align: top;\n    }\n\n    .dataframe thead th {\n        text-align: right;\n    }\n</style>\n<table border=\"1\" class=\"dataframe\">\n  <thead>\n    <tr style=\"text-align: right;\">\n      <th></th>\n      <th>Transaction ID</th>\n      <th>Age</th>\n      <th>Items</th>\n      <th>Monthly Income</th>\n      <th>Transaction Time</th>\n      <th>Record</th>\n      <th>Gender</th>\n      <th>City Tier</th>\n      <th>Total Spend</th>\n      <th>Gender_Female</th>\n      <th>Gender_Male</th>\n    </tr>\n  </thead>\n  <tbody>\n    <tr>\n      <td>0</td>\n      <td>TXN001</td>\n      <td>42</td>\n      <td>10</td>\n      <td>7313</td>\n      <td>627.668127</td>\n      <td>5</td>\n      <td>Female</td>\n      <td>Tier 1</td>\n      <td>4198.385084</td>\n      <td>1</td>\n      <td>0</td>\n    </tr>\n    <tr>\n      <td>1</td>\n      <td>TXN002</td>\n      <td>24</td>\n      <td>8</td>\n      <td>17747</td>\n      <td>126.904567</td>\n      <td>3</td>\n      <td>Female</td>\n      <td>Tier 2</td>\n      <td>4134.976648</td>\n      <td>1</td>\n      <td>0</td>\n    </tr>\n    <tr>\n      <td>2</td>\n      <td>TXN003</td>\n      <td>47</td>\n      <td>11</td>\n      <td>22845</td>\n      <td>873.469701</td>\n      <td>2</td>\n      <td>Male</td>\n      <td>Tier 2</td>\n      <td>5166.614455</td>\n      <td>0</td>\n      <td>1</td>\n    </tr>\n    <tr>\n      <td>3</td>\n      <td>TXN004</td>\n      <td>50</td>\n      <td>11</td>\n      <td>18552</td>\n      <td>380.219428</td>\n      <td>7</td>\n      <td>Female</td>\n      <td>Tier 1</td>\n      <td>7784.447676</td>\n      <td>1</td>\n      <td>0</td>\n    </tr>\n    <tr>\n      <td>4</td>\n      <td>TXN005</td>\n      <td>60</td>\n      <td>2</td>\n      <td>14439</td>\n      <td>403.374223</td>\n      <td>2</td>\n      <td>Female</td>\n      <td>Tier 2</td>\n      <td>3254.160485</td>\n      <td>1</td>\n      <td>0</td>\n    </tr>\n  </tbody>\n</table>\n</div>"
     },
     "metadata": {},
     "output_type": "execute_result",
     "execution_count": 11
    }
   ],
   "source": [
    "df_new = df[column_names].join(dummy_gender)\n",
    "column_names = df_new.columns.values.tolist()\n",
    "df_new.head()"
   ]
  },
  {
   "cell_type": "code",
   "execution_count": 12,
   "metadata": {
    "pycharm": {
     "is_executing": false
    }
   },
   "outputs": [
    {
     "data": {
      "text/plain": "  Transaction ID  Age    Items   Monthly Income  Transaction Time  Record  \\\n0         TXN001    42       10            7313        627.668127       5   \n1         TXN002    24        8           17747        126.904567       3   \n2         TXN003    47       11           22845        873.469701       2   \n3         TXN004    50       11           18552        380.219428       7   \n4         TXN005    60        2           14439        403.374223       2   \n\n   Gender City Tier  Total Spend  Gender_Female  Gender_Male  City_Tier 1  \\\n0  Female    Tier 1  4198.385084              1            0            1   \n1  Female    Tier 2  4134.976648              1            0            0   \n2    Male    Tier 2  5166.614455              0            1            0   \n3  Female    Tier 1  7784.447676              1            0            1   \n4  Female    Tier 2  3254.160485              1            0            0   \n\n   City_Tier 2  City_Tier 3  \n0            0            0  \n1            1            0  \n2            1            0  \n3            0            0  \n4            1            0  ",
      "text/html": "<div>\n<style scoped>\n    .dataframe tbody tr th:only-of-type {\n        vertical-align: middle;\n    }\n\n    .dataframe tbody tr th {\n        vertical-align: top;\n    }\n\n    .dataframe thead th {\n        text-align: right;\n    }\n</style>\n<table border=\"1\" class=\"dataframe\">\n  <thead>\n    <tr style=\"text-align: right;\">\n      <th></th>\n      <th>Transaction ID</th>\n      <th>Age</th>\n      <th>Items</th>\n      <th>Monthly Income</th>\n      <th>Transaction Time</th>\n      <th>Record</th>\n      <th>Gender</th>\n      <th>City Tier</th>\n      <th>Total Spend</th>\n      <th>Gender_Female</th>\n      <th>Gender_Male</th>\n      <th>City_Tier 1</th>\n      <th>City_Tier 2</th>\n      <th>City_Tier 3</th>\n    </tr>\n  </thead>\n  <tbody>\n    <tr>\n      <td>0</td>\n      <td>TXN001</td>\n      <td>42</td>\n      <td>10</td>\n      <td>7313</td>\n      <td>627.668127</td>\n      <td>5</td>\n      <td>Female</td>\n      <td>Tier 1</td>\n      <td>4198.385084</td>\n      <td>1</td>\n      <td>0</td>\n      <td>1</td>\n      <td>0</td>\n      <td>0</td>\n    </tr>\n    <tr>\n      <td>1</td>\n      <td>TXN002</td>\n      <td>24</td>\n      <td>8</td>\n      <td>17747</td>\n      <td>126.904567</td>\n      <td>3</td>\n      <td>Female</td>\n      <td>Tier 2</td>\n      <td>4134.976648</td>\n      <td>1</td>\n      <td>0</td>\n      <td>0</td>\n      <td>1</td>\n      <td>0</td>\n    </tr>\n    <tr>\n      <td>2</td>\n      <td>TXN003</td>\n      <td>47</td>\n      <td>11</td>\n      <td>22845</td>\n      <td>873.469701</td>\n      <td>2</td>\n      <td>Male</td>\n      <td>Tier 2</td>\n      <td>5166.614455</td>\n      <td>0</td>\n      <td>1</td>\n      <td>0</td>\n      <td>1</td>\n      <td>0</td>\n    </tr>\n    <tr>\n      <td>3</td>\n      <td>TXN004</td>\n      <td>50</td>\n      <td>11</td>\n      <td>18552</td>\n      <td>380.219428</td>\n      <td>7</td>\n      <td>Female</td>\n      <td>Tier 1</td>\n      <td>7784.447676</td>\n      <td>1</td>\n      <td>0</td>\n      <td>1</td>\n      <td>0</td>\n      <td>0</td>\n    </tr>\n    <tr>\n      <td>4</td>\n      <td>TXN005</td>\n      <td>60</td>\n      <td>2</td>\n      <td>14439</td>\n      <td>403.374223</td>\n      <td>2</td>\n      <td>Female</td>\n      <td>Tier 2</td>\n      <td>3254.160485</td>\n      <td>1</td>\n      <td>0</td>\n      <td>0</td>\n      <td>1</td>\n      <td>0</td>\n    </tr>\n  </tbody>\n</table>\n</div>"
     },
     "metadata": {},
     "output_type": "execute_result",
     "execution_count": 12
    }
   ],
   "source": [
    "df_new = df_new[column_names].join(dummy_city_tier)\n",
    "column_names = df_new.columns.values.tolist()\n",
    "df_new.head()"
   ]
  },
  {
   "cell_type": "code",
   "execution_count": 13,
   "metadata": {
    "pycharm": {
     "is_executing": false
    }
   },
   "outputs": [],
   "source": [
    "feature_cols = [\"Monthly Income\", \"Transaction Time\", \"Gender_Female\"\n",
    "                , \"Gender_Male\", \"City_Tier 1\", \"City_Tier 2\", \"City_Tier 3\"\n",
    "               , \"Record\"]"
   ]
  },
  {
   "cell_type": "code",
   "execution_count": 14,
   "metadata": {
    "pycharm": {
     "is_executing": false
    }
   },
   "outputs": [],
   "source": [
    "X = df_new[feature_cols]\n",
    "Y = df_new[\"Total Spend\"]"
   ]
  },
  {
   "cell_type": "code",
   "execution_count": 15,
   "metadata": {
    "pycharm": {
     "is_executing": false
    }
   },
   "outputs": [
    {
     "data": {
      "text/plain": "LinearRegression(copy_X=True, fit_intercept=True, n_jobs=None, normalize=False)"
     },
     "metadata": {},
     "output_type": "execute_result",
     "execution_count": 15
    }
   ],
   "source": [
    "lm = LinearRegression()\n",
    "lm.fit(X,Y)"
   ]
  },
  {
   "cell_type": "code",
   "execution_count": 16,
   "metadata": {
    "pycharm": {
     "is_executing": false
    }
   },
   "outputs": [
    {
     "name": "stdout",
     "text": [
      "-79.4171303013718\n[ 1.47538980e-01  1.54946125e-01 -1.31025013e+02  1.31025013e+02\n  7.67643260e+01  5.51389743e+01 -1.31903300e+02  7.72233446e+02]\n"
     ],
     "output_type": "stream"
    }
   ],
   "source": [
    "print(lm.intercept_)\n",
    "print(lm.coef_)"
   ]
  },
  {
   "cell_type": "code",
   "execution_count": 17,
   "metadata": {
    "pycharm": {
     "is_executing": false
    }
   },
   "outputs": [
    {
     "data": {
      "text/plain": "[('Monthly Income', 0.1475389804920574),\n ('Transaction Time', 0.15494612549589393),\n ('Gender_Female', -131.02501325554675),\n ('Gender_Male', 131.02501325554664),\n ('City_Tier 1', 76.764326010495),\n ('City_Tier 2', 55.13897430923278),\n ('City_Tier 3', -131.90330031972783),\n ('Record', 772.2334457445645)]"
     },
     "metadata": {},
     "output_type": "execute_result",
     "execution_count": 17
    }
   ],
   "source": [
    "list(zip(feature_cols, lm.coef_))"
   ]
  },
  {
   "cell_type": "code",
   "execution_count": 18,
   "metadata": {
    "pycharm": {
     "is_executing": false
    }
   },
   "outputs": [
    {
     "data": {
      "text/plain": "0.9179923586131016"
     },
     "metadata": {},
     "output_type": "execute_result",
     "execution_count": 18
    }
   ],
   "source": [
    "lm.score(X,Y)"
   ]
  },
  {
   "cell_type": "markdown",
   "metadata": {},
   "source": [
    "El modelo puede ser escrito como:\n",
    "    Total_Spend = -79.41713030137089 + 'Monthly Income' * 0.14753898049205746 + 'Transaction Time' * 0.1549461254958966 + 'Gender_Female' * -131.02501325554562 + 'Gender_Male' * 131.0250132555456 + 'City_Tier 1' * 76.76432601049542 + 'City_Tier 2' * 55.138974309232275 + 'City_Tier 3' * -131.90330031972783 + 'Record' * 772.2334457445639"
   ]
  },
  {
   "cell_type": "code",
   "execution_count": 19,
   "metadata": {
    "pycharm": {
     "is_executing": false
    }
   },
   "outputs": [
    {
     "data": {
      "text/plain": "  Transaction ID  Age    Items   Monthly Income  Transaction Time  Record  \\\n0         TXN001    42       10            7313        627.668127       5   \n1         TXN002    24        8           17747        126.904567       3   \n2         TXN003    47       11           22845        873.469701       2   \n3         TXN004    50       11           18552        380.219428       7   \n4         TXN005    60        2           14439        403.374223       2   \n\n   Gender City Tier  Total Spend  Gender_Female  Gender_Male  City_Tier 1  \\\n0  Female    Tier 1  4198.385084              1            0            1   \n1  Female    Tier 2  4134.976648              1            0            0   \n2    Male    Tier 2  5166.614455              0            1            0   \n3  Female    Tier 1  7784.447676              1            0            1   \n4  Female    Tier 2  3254.160485              1            0            0   \n\n   City_Tier 2  City_Tier 3   prediction  \n0            0            0  4903.696720  \n1            1            0  4799.434826  \n2            1            0  5157.082504  \n3            0            0  8068.012996  \n4            1            0  3581.980335  ",
      "text/html": "<div>\n<style scoped>\n    .dataframe tbody tr th:only-of-type {\n        vertical-align: middle;\n    }\n\n    .dataframe tbody tr th {\n        vertical-align: top;\n    }\n\n    .dataframe thead th {\n        text-align: right;\n    }\n</style>\n<table border=\"1\" class=\"dataframe\">\n  <thead>\n    <tr style=\"text-align: right;\">\n      <th></th>\n      <th>Transaction ID</th>\n      <th>Age</th>\n      <th>Items</th>\n      <th>Monthly Income</th>\n      <th>Transaction Time</th>\n      <th>Record</th>\n      <th>Gender</th>\n      <th>City Tier</th>\n      <th>Total Spend</th>\n      <th>Gender_Female</th>\n      <th>Gender_Male</th>\n      <th>City_Tier 1</th>\n      <th>City_Tier 2</th>\n      <th>City_Tier 3</th>\n      <th>prediction</th>\n    </tr>\n  </thead>\n  <tbody>\n    <tr>\n      <td>0</td>\n      <td>TXN001</td>\n      <td>42</td>\n      <td>10</td>\n      <td>7313</td>\n      <td>627.668127</td>\n      <td>5</td>\n      <td>Female</td>\n      <td>Tier 1</td>\n      <td>4198.385084</td>\n      <td>1</td>\n      <td>0</td>\n      <td>1</td>\n      <td>0</td>\n      <td>0</td>\n      <td>4903.696720</td>\n    </tr>\n    <tr>\n      <td>1</td>\n      <td>TXN002</td>\n      <td>24</td>\n      <td>8</td>\n      <td>17747</td>\n      <td>126.904567</td>\n      <td>3</td>\n      <td>Female</td>\n      <td>Tier 2</td>\n      <td>4134.976648</td>\n      <td>1</td>\n      <td>0</td>\n      <td>0</td>\n      <td>1</td>\n      <td>0</td>\n      <td>4799.434826</td>\n    </tr>\n    <tr>\n      <td>2</td>\n      <td>TXN003</td>\n      <td>47</td>\n      <td>11</td>\n      <td>22845</td>\n      <td>873.469701</td>\n      <td>2</td>\n      <td>Male</td>\n      <td>Tier 2</td>\n      <td>5166.614455</td>\n      <td>0</td>\n      <td>1</td>\n      <td>0</td>\n      <td>1</td>\n      <td>0</td>\n      <td>5157.082504</td>\n    </tr>\n    <tr>\n      <td>3</td>\n      <td>TXN004</td>\n      <td>50</td>\n      <td>11</td>\n      <td>18552</td>\n      <td>380.219428</td>\n      <td>7</td>\n      <td>Female</td>\n      <td>Tier 1</td>\n      <td>7784.447676</td>\n      <td>1</td>\n      <td>0</td>\n      <td>1</td>\n      <td>0</td>\n      <td>0</td>\n      <td>8068.012996</td>\n    </tr>\n    <tr>\n      <td>4</td>\n      <td>TXN005</td>\n      <td>60</td>\n      <td>2</td>\n      <td>14439</td>\n      <td>403.374223</td>\n      <td>2</td>\n      <td>Female</td>\n      <td>Tier 2</td>\n      <td>3254.160485</td>\n      <td>1</td>\n      <td>0</td>\n      <td>0</td>\n      <td>1</td>\n      <td>0</td>\n      <td>3581.980335</td>\n    </tr>\n  </tbody>\n</table>\n</div>"
     },
     "metadata": {},
     "output_type": "execute_result",
     "execution_count": 19
    }
   ],
   "source": [
    "df_new[\"prediction\"] = lm.predict(df_new[feature_cols])\n",
    "df_new.head()"
   ]
  },
  {
   "cell_type": "code",
   "execution_count": 20,
   "metadata": {
    "pycharm": {
     "is_executing": false
    }
   },
   "outputs": [
    {
     "name": "stdout",
     "text": [
      "Error del modelo: 13.01%\n"
     ],
     "output_type": "stream"
    }
   ],
   "source": [
    "SSD = sum((df_new[\"prediction\"]-df_new[\"Total Spend\"])**2)\n",
    "RSE = np.sqrt(SSD/len(df_new)-len(feature_cols)-1)\n",
    "df_mean = np.mean(df_new[\"Total Spend\"])\n",
    "error = RSE/df_mean\n",
    "print(\"Error del modelo: \" + str(round(error*100,2)) + \"%\")"
   ]
  },
  {
   "cell_type": "markdown",
   "metadata": {},
   "source": [
    "## Eliminar variables dummy"
   ]
  },
  {
   "cell_type": "code",
   "execution_count": 21,
   "metadata": {
    "pycharm": {
     "is_executing": false
    }
   },
   "outputs": [
    {
     "data": {
      "text/plain": "   City_Tier 1  City_Tier 2\n0            1            0\n1            0            1\n2            0            1\n3            1            0\n4            0            1",
      "text/html": "<div>\n<style scoped>\n    .dataframe tbody tr th:only-of-type {\n        vertical-align: middle;\n    }\n\n    .dataframe tbody tr th {\n        vertical-align: top;\n    }\n\n    .dataframe thead th {\n        text-align: right;\n    }\n</style>\n<table border=\"1\" class=\"dataframe\">\n  <thead>\n    <tr style=\"text-align: right;\">\n      <th></th>\n      <th>City_Tier 1</th>\n      <th>City_Tier 2</th>\n    </tr>\n  </thead>\n  <tbody>\n    <tr>\n      <td>0</td>\n      <td>1</td>\n      <td>0</td>\n    </tr>\n    <tr>\n      <td>1</td>\n      <td>0</td>\n      <td>1</td>\n    </tr>\n    <tr>\n      <td>2</td>\n      <td>0</td>\n      <td>1</td>\n    </tr>\n    <tr>\n      <td>3</td>\n      <td>1</td>\n      <td>0</td>\n    </tr>\n    <tr>\n      <td>4</td>\n      <td>0</td>\n      <td>1</td>\n    </tr>\n  </tbody>\n</table>\n</div>"
     },
     "metadata": {},
     "output_type": "execute_result",
     "execution_count": 21
    }
   ],
   "source": [
    "dummy_gender = pd.get_dummies(df[\"Gender\"], prefix = \"Gender\").iloc[:,:1]\n",
    "dummy_city_tier = pd.get_dummies(df[\"City Tier\"], prefix = \"City\").iloc[:,0:2]\n",
    "dummy_city_tier.head()"
   ]
  },
  {
   "cell_type": "code",
   "execution_count": 22,
   "metadata": {
    "pycharm": {
     "is_executing": false
    }
   },
   "outputs": [
    {
     "data": {
      "text/plain": "  Transaction ID  Age    Items   Monthly Income  Transaction Time  Record  \\\n0         TXN001    42       10            7313        627.668127       5   \n1         TXN002    24        8           17747        126.904567       3   \n2         TXN003    47       11           22845        873.469701       2   \n3         TXN004    50       11           18552        380.219428       7   \n4         TXN005    60        2           14439        403.374223       2   \n\n   Gender City Tier  Total Spend  Gender_Female  City_Tier 1  City_Tier 2  \n0  Female    Tier 1  4198.385084              1            1            0  \n1  Female    Tier 2  4134.976648              1            0            1  \n2    Male    Tier 2  5166.614455              0            0            1  \n3  Female    Tier 1  7784.447676              1            1            0  \n4  Female    Tier 2  3254.160485              1            0            1  ",
      "text/html": "<div>\n<style scoped>\n    .dataframe tbody tr th:only-of-type {\n        vertical-align: middle;\n    }\n\n    .dataframe tbody tr th {\n        vertical-align: top;\n    }\n\n    .dataframe thead th {\n        text-align: right;\n    }\n</style>\n<table border=\"1\" class=\"dataframe\">\n  <thead>\n    <tr style=\"text-align: right;\">\n      <th></th>\n      <th>Transaction ID</th>\n      <th>Age</th>\n      <th>Items</th>\n      <th>Monthly Income</th>\n      <th>Transaction Time</th>\n      <th>Record</th>\n      <th>Gender</th>\n      <th>City Tier</th>\n      <th>Total Spend</th>\n      <th>Gender_Female</th>\n      <th>City_Tier 1</th>\n      <th>City_Tier 2</th>\n    </tr>\n  </thead>\n  <tbody>\n    <tr>\n      <td>0</td>\n      <td>TXN001</td>\n      <td>42</td>\n      <td>10</td>\n      <td>7313</td>\n      <td>627.668127</td>\n      <td>5</td>\n      <td>Female</td>\n      <td>Tier 1</td>\n      <td>4198.385084</td>\n      <td>1</td>\n      <td>1</td>\n      <td>0</td>\n    </tr>\n    <tr>\n      <td>1</td>\n      <td>TXN002</td>\n      <td>24</td>\n      <td>8</td>\n      <td>17747</td>\n      <td>126.904567</td>\n      <td>3</td>\n      <td>Female</td>\n      <td>Tier 2</td>\n      <td>4134.976648</td>\n      <td>1</td>\n      <td>0</td>\n      <td>1</td>\n    </tr>\n    <tr>\n      <td>2</td>\n      <td>TXN003</td>\n      <td>47</td>\n      <td>11</td>\n      <td>22845</td>\n      <td>873.469701</td>\n      <td>2</td>\n      <td>Male</td>\n      <td>Tier 2</td>\n      <td>5166.614455</td>\n      <td>0</td>\n      <td>0</td>\n      <td>1</td>\n    </tr>\n    <tr>\n      <td>3</td>\n      <td>TXN004</td>\n      <td>50</td>\n      <td>11</td>\n      <td>18552</td>\n      <td>380.219428</td>\n      <td>7</td>\n      <td>Female</td>\n      <td>Tier 1</td>\n      <td>7784.447676</td>\n      <td>1</td>\n      <td>1</td>\n      <td>0</td>\n    </tr>\n    <tr>\n      <td>4</td>\n      <td>TXN005</td>\n      <td>60</td>\n      <td>2</td>\n      <td>14439</td>\n      <td>403.374223</td>\n      <td>2</td>\n      <td>Female</td>\n      <td>Tier 2</td>\n      <td>3254.160485</td>\n      <td>1</td>\n      <td>0</td>\n      <td>1</td>\n    </tr>\n  </tbody>\n</table>\n</div>"
     },
     "metadata": {},
     "output_type": "execute_result",
     "execution_count": 22
    }
   ],
   "source": [
    "df_new = df.join(dummy_gender)\n",
    "df_new = df_new.join(dummy_city_tier)\n",
    "df_new.head()"
   ]
  },
  {
   "cell_type": "code",
   "execution_count": 23,
   "metadata": {
    "pycharm": {
     "is_executing": false
    }
   },
   "outputs": [],
   "source": [
    "feature_cols = [\"Monthly Income\", \"Transaction Time\", \"Gender_Female\", \"City_Tier 1\", \"City_Tier 2\", \"Record\"]\n",
    "X = df_new[feature_cols]\n",
    "Y = df_new[\"Total Spend\"]\n",
    "lm = LinearRegression().fit(X,Y)"
   ]
  },
  {
   "cell_type": "code",
   "execution_count": 24,
   "metadata": {
    "pycharm": {
     "is_executing": false
    }
   },
   "outputs": [],
   "source": [
    "df_new[\"Predict\"] = lm.predict(df_new[feature_cols])"
   ]
  },
  {
   "cell_type": "code",
   "execution_count": 25,
   "metadata": {
    "pycharm": {
     "is_executing": false
    }
   },
   "outputs": [
    {
     "name": "stdout",
     "text": [
      "Error del modelo: 13.01%\n"
     ],
     "output_type": "stream"
    }
   ],
   "source": [
    "SSD = sum((df_new[\"Predict\"]-df_new[\"Total Spend\"])**2)\n",
    "RSE = np.sqrt(SSD/len(df_new)-len(feature_cols)-1)\n",
    "spend_mean = np.mean(df_new[\"Total Spend\"])\n",
    "error = RSE/spend_mean\n",
    "print(\"Error del modelo: \" + str(round(error*100,2)) + \"%\")"
   ]
  },
  {
   "cell_type": "code",
   "execution_count": 26,
   "metadata": {
    "pycharm": {
     "is_executing": false
    }
   },
   "outputs": [
    {
     "name": "stdout",
     "text": [
      "El modelo explica en un 91.8% a la variable real\n"
     ],
     "output_type": "stream"
    }
   ],
   "source": [
    "print(\"El modelo explica en un \" + str(round(lm.score(X,Y)*100,2)) + \"% a la variable real\")"
   ]
  },
  {
   "cell_type": "markdown",
   "metadata": {},
   "source": [
    "## Transformación de variables para conseguir una relación no lineal"
   ]
  },
  {
   "cell_type": "code",
   "execution_count": 27,
   "metadata": {
    "pycharm": {
     "is_executing": false
    }
   },
   "outputs": [
    {
     "data": {
      "text/plain": "    mpg  cylinders  displacement  horsepower  weight  acceleration  \\\n0  18.0          8         307.0       130.0    3504          12.0   \n1  15.0          8         350.0       165.0    3693          11.5   \n2  18.0          8         318.0       150.0    3436          11.0   \n3  16.0          8         304.0       150.0    3433          12.0   \n4  17.0          8         302.0       140.0    3449          10.5   \n\n   model year  origin                   car name  \n0          70       1  chevrolet chevelle malibu  \n1          70       1          buick skylark 320  \n2          70       1         plymouth satellite  \n3          70       1              amc rebel sst  \n4          70       1                ford torino  ",
      "text/html": "<div>\n<style scoped>\n    .dataframe tbody tr th:only-of-type {\n        vertical-align: middle;\n    }\n\n    .dataframe tbody tr th {\n        vertical-align: top;\n    }\n\n    .dataframe thead th {\n        text-align: right;\n    }\n</style>\n<table border=\"1\" class=\"dataframe\">\n  <thead>\n    <tr style=\"text-align: right;\">\n      <th></th>\n      <th>mpg</th>\n      <th>cylinders</th>\n      <th>displacement</th>\n      <th>horsepower</th>\n      <th>weight</th>\n      <th>acceleration</th>\n      <th>model year</th>\n      <th>origin</th>\n      <th>car name</th>\n    </tr>\n  </thead>\n  <tbody>\n    <tr>\n      <td>0</td>\n      <td>18.0</td>\n      <td>8</td>\n      <td>307.0</td>\n      <td>130.0</td>\n      <td>3504</td>\n      <td>12.0</td>\n      <td>70</td>\n      <td>1</td>\n      <td>chevrolet chevelle malibu</td>\n    </tr>\n    <tr>\n      <td>1</td>\n      <td>15.0</td>\n      <td>8</td>\n      <td>350.0</td>\n      <td>165.0</td>\n      <td>3693</td>\n      <td>11.5</td>\n      <td>70</td>\n      <td>1</td>\n      <td>buick skylark 320</td>\n    </tr>\n    <tr>\n      <td>2</td>\n      <td>18.0</td>\n      <td>8</td>\n      <td>318.0</td>\n      <td>150.0</td>\n      <td>3436</td>\n      <td>11.0</td>\n      <td>70</td>\n      <td>1</td>\n      <td>plymouth satellite</td>\n    </tr>\n    <tr>\n      <td>3</td>\n      <td>16.0</td>\n      <td>8</td>\n      <td>304.0</td>\n      <td>150.0</td>\n      <td>3433</td>\n      <td>12.0</td>\n      <td>70</td>\n      <td>1</td>\n      <td>amc rebel sst</td>\n    </tr>\n    <tr>\n      <td>4</td>\n      <td>17.0</td>\n      <td>8</td>\n      <td>302.0</td>\n      <td>140.0</td>\n      <td>3449</td>\n      <td>10.5</td>\n      <td>70</td>\n      <td>1</td>\n      <td>ford torino</td>\n    </tr>\n  </tbody>\n</table>\n</div>"
     },
     "metadata": {},
     "output_type": "execute_result",
     "execution_count": 27
    }
   ],
   "source": [
    "import matplotlib.pyplot as plt\n",
    "df_cars = pd.read_csv(\"../datasets/auto/auto-mpg.csv\")\n",
    "df_cars.head()"
   ]
  },
  {
   "cell_type": "code",
   "execution_count": 28,
   "metadata": {
    "pycharm": {
     "is_executing": false
    }
   },
   "outputs": [
    {
     "data": {
      "text/plain": "Text(0, 0.5, 'Consumo (millas por galeon)')"
     },
     "metadata": {},
     "output_type": "execute_result",
     "execution_count": 28
    },
    {
     "data": {
      "text/plain": "<Figure size 432x288 with 1 Axes>",
      "image/png": "[encoded data removed]"
     },
     "metadata": {
      "needs_background": "light"
     },
     "output_type": "display_data"
    }
   ],
   "source": [
    "%matplotlib inline\n",
    "df_cars[\"mpg\"] = df_cars[\"mpg\"].dropna()\n",
    "df_cars[\"horsepower\"] = df_cars[\"horsepower\"].dropna()\n",
    "\n",
    "plt.plot(df_cars[\"horsepower\"], df_cars[\"mpg\"], \"ro\")\n",
    "plt.xlabel(\"Caballos de potencia\")\n",
    "plt.ylabel(\"Consumo (millas por galeon)\")"
   ]
  },
  {
   "cell_type": "markdown",
   "metadata": {},
   "source": [
    "## Modelo de regresión lineal\n",
    "* mpg = a + b * horsepower"
   ]
  },
  {
   "cell_type": "code",
   "execution_count": 29,
   "metadata": {
    "pycharm": {
     "is_executing": false
    }
   },
   "outputs": [],
   "source": [
    "X = df_cars[\"horsepower\"].fillna(df_cars[\"horsepower\"].mean())\n",
    "X = pd.DataFrame(X)\n",
    "Y = df_cars[\"mpg\"].fillna(df_cars[\"mpg\"].mean())"
   ]
  },
  {
   "cell_type": "code",
   "execution_count": 30,
   "metadata": {
    "pycharm": {
     "is_executing": false
    }
   },
   "outputs": [],
   "source": [
    "lm_car = LinearRegression().fit(X,Y)"
   ]
  },
  {
   "cell_type": "code",
   "execution_count": 31,
   "metadata": {
    "pycharm": {
     "is_executing": false
    }
   },
   "outputs": [
    {
     "data": {
      "text/plain": "[<matplotlib.lines.Line2D at 0x2900efe06c8>]"
     },
     "metadata": {},
     "output_type": "execute_result",
     "execution_count": 31
    },
    {
     "data": {
      "text/plain": "<Figure size 432x288 with 1 Axes>",
      "image/png": "[encoded data removed]"
     },
     "metadata": {
      "needs_background": "light"
     },
     "output_type": "display_data"
    }
   ],
   "source": [
    "%matplotlib inline\n",
    "plt.plot(X,Y,\"ro\")\n",
    "plt.plot(X, lm_car.predict(X), \"blue\")"
   ]
  },
  {
   "cell_type": "code",
   "execution_count": 32,
   "metadata": {
    "pycharm": {
     "is_executing": false
    }
   },
   "outputs": [
    {
     "name": "stdout",
     "text": [
      "El modelo explica en un 57.47% a la variable real\n"
     ],
     "output_type": "stream"
    }
   ],
   "source": [
    "print(\"El modelo explica en un \" + str(round(lm_car.score(X,Y)*100,2)) + \"% a la variable real\")"
   ]
  },
  {
   "cell_type": "code",
   "execution_count": 33,
   "metadata": {
    "pycharm": {
     "is_executing": false
    }
   },
   "outputs": [
    {
     "name": "stdout",
     "text": [
      "Error del modelo: 21.01%\n"
     ],
     "output_type": "stream"
    }
   ],
   "source": [
    "SSD = sum((Y-lm_car.predict(X))**2)\n",
    "RSE = np.sqrt(SSD/len(X)-1)\n",
    "error = RSE/np.mean(Y)\n",
    "print(\"Error del modelo: \" + str(round(error*100,2)) + \"%\")"
   ]
  },
  {
   "cell_type": "markdown",
   "metadata": {},
   "source": [
    "## Modelo de regresión cuadrático\n",
    "* mpg = a + b * horsepower^2"
   ]
  },
  {
   "cell_type": "code",
   "execution_count": 34,
   "metadata": {
    "pycharm": {
     "is_executing": false
    }
   },
   "outputs": [
    {
     "data": {
      "text/plain": "[<matplotlib.lines.Line2D at 0x2900f0507c8>]"
     },
     "metadata": {},
     "output_type": "execute_result",
     "execution_count": 34
    },
    {
     "data": {
      "text/plain": "<Figure size 432x288 with 1 Axes>",
      "image/png": "[encoded data removed]"
     },
     "metadata": {
      "needs_background": "light"
     },
     "output_type": "display_data"
    }
   ],
   "source": [
    "X2 = X**2\n",
    "lm_car_2 = LinearRegression().fit(X2,Y)\n",
    "%matplotlib inline\n",
    "plt.plot(X2,Y,\"ro\")\n",
    "plt.plot(X2, lm_car_2.predict(X2), \"blue\")"
   ]
  },
  {
   "cell_type": "code",
   "execution_count": 35,
   "metadata": {
    "pycharm": {
     "is_executing": false
    }
   },
   "outputs": [
    {
     "name": "stdout",
     "text": [
      "El modelo explica en un 48.5% a la variable real\nError del modelo: 23.2%\n"
     ],
     "output_type": "stream"
    }
   ],
   "source": [
    "print(\"El modelo explica en un \" + str(round(lm_car_2.score(X2,Y)*100,2)) + \"% a la variable real\")\n",
    "SSD = sum((Y-lm_car_2.predict(X2))**2)\n",
    "RSE = np.sqrt(SSD/len(X2)-1)\n",
    "error = RSE/np.mean(Y)\n",
    "print(\"Error del modelo: \" + str(round(error*100,2)) + \"%\")"
   ]
  },
  {
   "cell_type": "markdown",
   "metadata": {},
   "source": [
    "## Modelo de regresión lineal y cuadrático\n",
    "* mpg = a + b * horsepower^2"
   ]
  },
  {
   "cell_type": "code",
   "execution_count": 36,
   "metadata": {
    "pycharm": {
     "is_executing": false
    }
   },
   "outputs": [],
   "source": [
    "from sklearn.preprocessing import PolynomialFeatures\n",
    "from sklearn import linear_model"
   ]
  },
  {
   "cell_type": "code",
   "execution_count": 37,
   "metadata": {
    "pycharm": {
     "is_executing": false
    }
   },
   "outputs": [],
   "source": [
    "poly = PolynomialFeatures(degree=2)"
   ]
  },
  {
   "cell_type": "code",
   "execution_count": 38,
   "metadata": {
    "pycharm": {
     "is_executing": false
    }
   },
   "outputs": [],
   "source": [
    "X_poly = poly.fit_transform(X)"
   ]
  },
  {
   "cell_type": "code",
   "execution_count": 39,
   "metadata": {
    "pycharm": {
     "is_executing": false
    }
   },
   "outputs": [],
   "source": [
    "lm_car_poly = linear_model.LinearRegression().fit(X_poly,Y)"
   ]
  },
  {
   "cell_type": "code",
   "execution_count": 40,
   "metadata": {
    "pycharm": {
     "is_executing": false
    }
   },
   "outputs": [
    {
     "data": {
      "text/plain": "[<matplotlib.lines.Line2D at 0x2900f02eb88>,\n <matplotlib.lines.Line2D at 0x2900f0c9bc8>,\n <matplotlib.lines.Line2D at 0x2900f0c9d88>]"
     },
     "metadata": {},
     "output_type": "execute_result",
     "execution_count": 40
    },
    {
     "data": {
      "text/plain": "<Figure size 432x288 with 1 Axes>",
      "image/png": "[encoded data removed]"
     },
     "metadata": {
      "needs_background": "light"
     },
     "output_type": "display_data"
    }
   ],
   "source": [
    "%matplotlib inline\n",
    "plt.plot(X_poly,Y,\"ro\")\n",
    "plt.plot(X_poly, lm_car_poly.predict(X_poly), \"blue\")"
   ]
  },
  {
   "cell_type": "code",
   "execution_count": 41,
   "metadata": {
    "pycharm": {
     "is_executing": false
    }
   },
   "outputs": [
    {
     "name": "stdout",
     "text": [
      "El modelo explica en un 64.39% a la variable real\nError del modelo: 19.15%\n"
     ],
     "output_type": "stream"
    }
   ],
   "source": [
    "print(\"El modelo explica en un \" + str(round(lm_car_poly.score(X_poly,Y)*100,2)) + \"% a la variable real\")\n",
    "SSD = sum((Y-lm_car_poly.predict(X_poly))**2)\n",
    "RSE = np.sqrt(SSD/len(X_poly)-1)\n",
    "error = RSE/np.mean(Y)\n",
    "print(\"Error del modelo: \" + str(round(error*100,2)) + \"%\")"
   ]
  },
  {
   "cell_type": "code",
   "execution_count": 42,
   "metadata": {
    "pycharm": {
     "is_executing": false
    }
   },
   "outputs": [],
   "source": [
    "def regression_validation(lm, X, Y, d):\n",
    "    print(\"Modelo polinomial de grado \" + str(d))\n",
    "    print(\"El modelo explica en un \" + str(round(lm.score(X,Y)*100,2)) + \"% a la variable real\")\n",
    "    SSD = sum((Y-lm.predict(X))**2)\n",
    "    RSE = np.sqrt(SSD/len(X)-1)\n",
    "    error = RSE/np.mean(Y)\n",
    "    print(\"Error del modelo: \" + str(round(error*100,2)) + \"%\")\n",
    "    print(\"---------------------------------------------\")"
   ]
  },
  {
   "cell_type": "code",
   "execution_count": 43,
   "metadata": {
    "pycharm": {
     "is_executing": false
    }
   },
   "outputs": [
    {
     "name": "stdout",
     "text": [
      "Modelo polinomial de grado 2\nEl modelo explica en un 64.39% a la variable real\nError del modelo: 19.15%\n---------------------------------------------\nModelo polinomial de grado 3\nEl modelo explica en un 64.45% a la variable real\nError del modelo: 19.13%\n---------------------------------------------\nModelo polinomial de grado 4\nEl modelo explica en un 64.68% a la variable real\nError del modelo: 19.07%\n---------------------------------------------\nModelo polinomial de grado 5\nEl modelo explica en un 65.48% a la variable real\nError del modelo: 18.84%\n---------------------------------------------\nModelo polinomial de grado 6\nEl modelo explica en un 65.73% a la variable real\nError del modelo: 18.77%\n---------------------------------------------\n"
     ],
     "output_type": "stream"
    }
   ],
   "source": [
    "for d in range(2,7):\n",
    "    poly = PolynomialFeatures(degree=d)\n",
    "    X_poly = poly.fit_transform(X)\n",
    "    lm_car_poly = linear_model.LinearRegression().fit(X_poly,Y)\n",
    "    regression_validation(lm_car_poly, X_poly, Y, d)"
   ]
  },
  {
   "cell_type": "markdown",
   "metadata": {},
   "source": [
    "## El problema de los outliers"
   ]
  },
  {
   "cell_type": "code",
   "execution_count": 44,
   "metadata": {
    "pycharm": {
     "is_executing": false
    }
   },
   "outputs": [
    {
     "data": {
      "text/plain": "[<matplotlib.lines.Line2D at 0x2901118a388>]"
     },
     "metadata": {},
     "output_type": "execute_result",
     "execution_count": 44
    },
    {
     "data": {
      "text/plain": "<Figure size 432x288 with 1 Axes>",
      "image/png": "[encoded data removed]"
     },
     "metadata": {
      "needs_background": "light"
     },
     "output_type": "display_data"
    }
   ],
   "source": [
    "plt.plot(df_cars[\"displacement\"], df_cars[\"mpg\"], \"ro\")"
   ]
  },
  {
   "cell_type": "code",
   "execution_count": 45,
   "metadata": {
    "pycharm": {
     "is_executing": false
    }
   },
   "outputs": [
    {
     "data": {
      "text/plain": "LinearRegression(copy_X=True, fit_intercept=True, n_jobs=None, normalize=False)"
     },
     "metadata": {},
     "output_type": "execute_result",
     "execution_count": 45
    }
   ],
   "source": [
    "X = df_cars[\"displacement\"].fillna(df_cars[\"displacement\"].mean())\n",
    "X = pd.DataFrame(X)\n",
    "Y = df_cars[\"mpg\"].fillna(df_cars[\"mpg\"].mean())\n",
    "\n",
    "lm = LinearRegression()\n",
    "lm.fit(X,Y)"
   ]
  },
  {
   "cell_type": "code",
   "execution_count": 46,
   "metadata": {
    "pycharm": {
     "is_executing": false
    }
   },
   "outputs": [
    {
     "name": "stdout",
     "text": [
      "Factor de R cuadrado: 0.6261049762826918\n"
     ],
     "output_type": "stream"
    },
    {
     "data": {
      "text/plain": "[<matplotlib.lines.Line2D at 0x290111e09c8>]"
     },
     "metadata": {},
     "output_type": "execute_result",
     "execution_count": 46
    },
    {
     "data": {
      "text/plain": "<Figure size 432x288 with 1 Axes>",
      "image/png": "[encoded data removed]"
     },
     "metadata": {
      "needs_background": "light"
     },
     "output_type": "display_data"
    }
   ],
   "source": [
    "print(\"Factor de R cuadrado: \" + str(lm.score(X,Y)))\n",
    "%matplotlib inline\n",
    "plt.plot(X,Y,\"ro\")\n",
    "plt.plot(X, lm.predict(X), \"blue\")"
   ]
  },
  {
   "cell_type": "code",
   "execution_count": 48,
   "metadata": {
    "pycharm": {
     "name": "#%%\n",
     "is_executing": false
    }
   },
   "outputs": [
    {
     "data": {
      "text/plain": "      mpg  cylinders  displacement  horsepower  weight  acceleration  \\\n395  38.0          6         262.0        85.0    3015          17.0   \n\n     model year  origin                           car name  \n395          82       1  oldsmobile cutlass ciera (diesel)  ",
      "text/html": "<div>\n<style scoped>\n    .dataframe tbody tr th:only-of-type {\n        vertical-align: middle;\n    }\n\n    .dataframe tbody tr th {\n        vertical-align: top;\n    }\n\n    .dataframe thead th {\n        text-align: right;\n    }\n</style>\n<table border=\"1\" class=\"dataframe\">\n  <thead>\n    <tr style=\"text-align: right;\">\n      <th></th>\n      <th>mpg</th>\n      <th>cylinders</th>\n      <th>displacement</th>\n      <th>horsepower</th>\n      <th>weight</th>\n      <th>acceleration</th>\n      <th>model year</th>\n      <th>origin</th>\n      <th>car name</th>\n    </tr>\n  </thead>\n  <tbody>\n    <tr>\n      <td>395</td>\n      <td>38.0</td>\n      <td>6</td>\n      <td>262.0</td>\n      <td>85.0</td>\n      <td>3015</td>\n      <td>17.0</td>\n      <td>82</td>\n      <td>1</td>\n      <td>oldsmobile cutlass ciera (diesel)</td>\n    </tr>\n  </tbody>\n</table>\n</div>"
     },
     "metadata": {},
     "output_type": "execute_result",
     "execution_count": 48
    }
   ],
   "source": [
    "df_filter = df_cars[(df_cars[\"displacement\"]>250) & (df_cars[\"mpg\"]>35)]\n",
    "\n",
    "df_filter"
   ]
  }
 ],
 "metadata": {
  "kernelspec": {
   "display_name": "Python 3",
   "language": "python",
   "name": "python3"
  },
  "language_info": {
   "codemirror_mode": {
    "name": "ipython",
    "version": 3
   },
   "file_extension": ".py",
   "mimetype": "text/x-python",
   "name": "python",
   "nbconvert_exporter": "python",
   "pygments_lexer": "ipython3",
   "version": "3.7.3"
  },
  "pycharm": {
   "stem_cell": {
    "cell_type": "raw",
    "source": [],
    "metadata": {
     "collapsed": false
    }
   }
  }
 },
 "nbformat": 4,
 "nbformat_minor": 2
}